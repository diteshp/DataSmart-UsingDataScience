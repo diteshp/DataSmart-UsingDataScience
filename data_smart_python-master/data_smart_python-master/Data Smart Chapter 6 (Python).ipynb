{
 "cells": [
  {
   "cell_type": "markdown",
   "metadata": {},
   "source": [
    "Load data from http://media.wiley.com/product_ancillary/6X/11186614/DOWNLOAD/ch06.zip, RetailMart.xlsx"
   ]
  },
  {
   "cell_type": "code",
   "execution_count": 1,
   "metadata": {
    "collapsed": true
   },
   "outputs": [],
   "source": [
    "# code written in py_3.0\n",
    "\n",
    "import pandas as pd\n",
    "import numpy as np"
   ]
  },
  {
   "cell_type": "markdown",
   "metadata": {},
   "source": [
    "Load customer account data - i.e., past product sales data"
   ]
  },
  {
   "cell_type": "code",
   "execution_count": 2,
   "metadata": {
    "collapsed": false
   },
   "outputs": [
    {
     "data": {
      "text/html": [
       "<div>\n",
       "<table border=\"1\" class=\"dataframe\">\n",
       "  <thead>\n",
       "    <tr style=\"text-align: right;\">\n",
       "      <th></th>\n",
       "      <th>Implied_Gender</th>\n",
       "      <th>Residency</th>\n",
       "      <th>Pregnancy_Test</th>\n",
       "      <th>Birth_Control</th>\n",
       "      <th>Feminine_Hygiene</th>\n",
       "      <th>Folic_Acid</th>\n",
       "      <th>Prenatal_Vitamins</th>\n",
       "      <th>Prenatal_Yoga</th>\n",
       "      <th>Body_Pillow</th>\n",
       "      <th>Ginger_Ale</th>\n",
       "      <th>Sea_Bands</th>\n",
       "      <th>Stopped_buying_ciggies</th>\n",
       "      <th>Cigarettes</th>\n",
       "      <th>Smoking_Cessation</th>\n",
       "      <th>Stopped_buying_wine</th>\n",
       "      <th>Wine</th>\n",
       "      <th>Maternity_Clothes</th>\n",
       "      <th>Pregnant</th>\n",
       "    </tr>\n",
       "  </thead>\n",
       "  <tbody>\n",
       "    <tr>\n",
       "      <th>0</th>\n",
       "      <td>M</td>\n",
       "      <td>A</td>\n",
       "      <td>1</td>\n",
       "      <td>0</td>\n",
       "      <td>0</td>\n",
       "      <td>0</td>\n",
       "      <td>1</td>\n",
       "      <td>0</td>\n",
       "      <td>0</td>\n",
       "      <td>0</td>\n",
       "      <td>0</td>\n",
       "      <td>0</td>\n",
       "      <td>0</td>\n",
       "      <td>0</td>\n",
       "      <td>0</td>\n",
       "      <td>0</td>\n",
       "      <td>0</td>\n",
       "      <td>1</td>\n",
       "    </tr>\n",
       "    <tr>\n",
       "      <th>1</th>\n",
       "      <td>M</td>\n",
       "      <td>H</td>\n",
       "      <td>1</td>\n",
       "      <td>0</td>\n",
       "      <td>0</td>\n",
       "      <td>0</td>\n",
       "      <td>1</td>\n",
       "      <td>0</td>\n",
       "      <td>0</td>\n",
       "      <td>0</td>\n",
       "      <td>0</td>\n",
       "      <td>0</td>\n",
       "      <td>0</td>\n",
       "      <td>0</td>\n",
       "      <td>0</td>\n",
       "      <td>0</td>\n",
       "      <td>0</td>\n",
       "      <td>1</td>\n",
       "    </tr>\n",
       "    <tr>\n",
       "      <th>2</th>\n",
       "      <td>M</td>\n",
       "      <td>H</td>\n",
       "      <td>1</td>\n",
       "      <td>0</td>\n",
       "      <td>0</td>\n",
       "      <td>0</td>\n",
       "      <td>0</td>\n",
       "      <td>0</td>\n",
       "      <td>0</td>\n",
       "      <td>0</td>\n",
       "      <td>1</td>\n",
       "      <td>0</td>\n",
       "      <td>0</td>\n",
       "      <td>0</td>\n",
       "      <td>0</td>\n",
       "      <td>0</td>\n",
       "      <td>0</td>\n",
       "      <td>1</td>\n",
       "    </tr>\n",
       "    <tr>\n",
       "      <th>3</th>\n",
       "      <td>U</td>\n",
       "      <td>H</td>\n",
       "      <td>0</td>\n",
       "      <td>0</td>\n",
       "      <td>0</td>\n",
       "      <td>0</td>\n",
       "      <td>0</td>\n",
       "      <td>0</td>\n",
       "      <td>0</td>\n",
       "      <td>1</td>\n",
       "      <td>0</td>\n",
       "      <td>0</td>\n",
       "      <td>0</td>\n",
       "      <td>0</td>\n",
       "      <td>0</td>\n",
       "      <td>0</td>\n",
       "      <td>0</td>\n",
       "      <td>1</td>\n",
       "    </tr>\n",
       "    <tr>\n",
       "      <th>4</th>\n",
       "      <td>F</td>\n",
       "      <td>A</td>\n",
       "      <td>0</td>\n",
       "      <td>0</td>\n",
       "      <td>0</td>\n",
       "      <td>0</td>\n",
       "      <td>0</td>\n",
       "      <td>1</td>\n",
       "      <td>0</td>\n",
       "      <td>0</td>\n",
       "      <td>0</td>\n",
       "      <td>0</td>\n",
       "      <td>0</td>\n",
       "      <td>0</td>\n",
       "      <td>1</td>\n",
       "      <td>0</td>\n",
       "      <td>0</td>\n",
       "      <td>1</td>\n",
       "    </tr>\n",
       "  </tbody>\n",
       "</table>\n",
       "</div>"
      ],
      "text/plain": [
       "  Implied_Gender Residency  Pregnancy_Test  Birth_Control  Feminine_Hygiene  \\\n",
       "0              M         A               1              0                 0   \n",
       "1              M         H               1              0                 0   \n",
       "2              M         H               1              0                 0   \n",
       "3              U         H               0              0                 0   \n",
       "4              F         A               0              0                 0   \n",
       "\n",
       "   Folic_Acid  Prenatal_Vitamins  Prenatal_Yoga  Body_Pillow  Ginger_Ale  \\\n",
       "0           0                  1              0            0           0   \n",
       "1           0                  1              0            0           0   \n",
       "2           0                  0              0            0           0   \n",
       "3           0                  0              0            0           1   \n",
       "4           0                  0              1            0           0   \n",
       "\n",
       "   Sea_Bands  Stopped_buying_ciggies  Cigarettes  Smoking_Cessation  \\\n",
       "0          0                       0           0                  0   \n",
       "1          0                       0           0                  0   \n",
       "2          1                       0           0                  0   \n",
       "3          0                       0           0                  0   \n",
       "4          0                       0           0                  0   \n",
       "\n",
       "   Stopped_buying_wine  Wine  Maternity_Clothes  Pregnant  \n",
       "0                    0     0                  0         1  \n",
       "1                    0     0                  0         1  \n",
       "2                    0     0                  0         1  \n",
       "3                    0     0                  0         1  \n",
       "4                    1     0                  0         1  "
      ]
     },
     "execution_count": 2,
     "metadata": {},
     "output_type": "execute_result"
    }
   ],
   "source": [
    "# find path to your RetailMart.xlsx\n",
    "df_accounts = pd.read_excel(open('C:/Users/craigrshenton/Desktop/Dropbox/excel_data_sci/ch06/RetailMart.xlsx','rb'), sheetname=0)\n",
    "df_accounts = df_accounts.drop('Unnamed: 17', 1) # drop empty col\n",
    "df_accounts.rename(columns={'PREGNANT':'Pregnant'}, inplace=True)\n",
    "df_accounts.rename(columns={'Home/Apt/ PO Box':'Residency'}, inplace=True) # add simpler col name\n",
    "df_accounts.columns = [x.strip().replace(' ', '_') for x in df_accounts.columns] # python does not like spaces in var names\n",
    "df_accounts.head()"
   ]
  },
  {
   "cell_type": "markdown",
   "metadata": {},
   "source": [
    "We need to categorise the 'Pregnant' column so that it can only take on one of two (in this case) possabilities. Here 1 = pregnant, and 0 = not pregnant"
   ]
  },
  {
   "cell_type": "code",
   "execution_count": 3,
   "metadata": {
    "collapsed": false
   },
   "outputs": [],
   "source": [
    "df_accounts['Pregnant'] = df_accounts['Pregnant'].astype('category') # set col type"
   ]
  },
  {
   "cell_type": "markdown",
   "metadata": {},
   "source": [
    "Following Greg Lamp over at the Yhat Blog (see [here](http://blog.yhat.com/posts/logistic-regression-python-rodeo.html)), we need to 'dummify' (i.e., separate out) the catagorical variables: gender and residency"
   ]
  },
  {
   "cell_type": "code",
   "execution_count": 4,
   "metadata": {
    "collapsed": false
   },
   "outputs": [
    {
     "name": "stdout",
     "output_type": "stream",
     "text": [
      "   Gender_F  Gender_M  Gender_U\n",
      "0         0         1         0\n",
      "1         0         1         0\n",
      "2         0         1         0\n",
      "3         0         0         1\n",
      "4         1         0         0\n"
     ]
    }
   ],
   "source": [
    "# dummify gender var\n",
    "dummy_gender = pd.get_dummies(df_accounts['Implied_Gender'], prefix='Gender')\n",
    "print(dummy_gender.head())"
   ]
  },
  {
   "cell_type": "code",
   "execution_count": 5,
   "metadata": {
    "collapsed": false
   },
   "outputs": [
    {
     "name": "stdout",
     "output_type": "stream",
     "text": [
      "   Resident_A  Resident_H  Resident_P\n",
      "0           1           0           0\n",
      "1           0           1           0\n",
      "2           0           1           0\n",
      "3           0           1           0\n",
      "4           1           0           0\n"
     ]
    }
   ],
   "source": [
    "# dummify residency var\n",
    "dummy_resident = pd.get_dummies(df_accounts['Residency'], prefix='Resident')\n",
    "print(dummy_resident.head())"
   ]
  },
  {
   "cell_type": "code",
   "execution_count": 6,
   "metadata": {
    "collapsed": false
   },
   "outputs": [
    {
     "data": {
      "text/html": [
       "<div>\n",
       "<table border=\"1\" class=\"dataframe\">\n",
       "  <thead>\n",
       "    <tr style=\"text-align: right;\">\n",
       "      <th></th>\n",
       "      <th>Intercept</th>\n",
       "      <th>Gender_M</th>\n",
       "      <th>Gender_U</th>\n",
       "      <th>Resident_H</th>\n",
       "      <th>Resident_P</th>\n",
       "      <th>Pregnancy_Test</th>\n",
       "      <th>Birth_Control</th>\n",
       "      <th>Feminine_Hygiene</th>\n",
       "      <th>Folic_Acid</th>\n",
       "      <th>Prenatal_Vitamins</th>\n",
       "      <th>Prenatal_Yoga</th>\n",
       "      <th>Body_Pillow</th>\n",
       "      <th>Ginger_Ale</th>\n",
       "      <th>Sea_Bands</th>\n",
       "      <th>Stopped_buying_ciggies</th>\n",
       "      <th>Cigarettes</th>\n",
       "      <th>Smoking_Cessation</th>\n",
       "      <th>Stopped_buying_wine</th>\n",
       "      <th>Wine</th>\n",
       "      <th>Maternity_Clothes</th>\n",
       "    </tr>\n",
       "  </thead>\n",
       "  <tbody>\n",
       "    <tr>\n",
       "      <th>0</th>\n",
       "      <td>1.0</td>\n",
       "      <td>1</td>\n",
       "      <td>0</td>\n",
       "      <td>0</td>\n",
       "      <td>0</td>\n",
       "      <td>1</td>\n",
       "      <td>0</td>\n",
       "      <td>0</td>\n",
       "      <td>0</td>\n",
       "      <td>1</td>\n",
       "      <td>0</td>\n",
       "      <td>0</td>\n",
       "      <td>0</td>\n",
       "      <td>0</td>\n",
       "      <td>0</td>\n",
       "      <td>0</td>\n",
       "      <td>0</td>\n",
       "      <td>0</td>\n",
       "      <td>0</td>\n",
       "      <td>0</td>\n",
       "    </tr>\n",
       "    <tr>\n",
       "      <th>1</th>\n",
       "      <td>1.0</td>\n",
       "      <td>1</td>\n",
       "      <td>0</td>\n",
       "      <td>1</td>\n",
       "      <td>0</td>\n",
       "      <td>1</td>\n",
       "      <td>0</td>\n",
       "      <td>0</td>\n",
       "      <td>0</td>\n",
       "      <td>1</td>\n",
       "      <td>0</td>\n",
       "      <td>0</td>\n",
       "      <td>0</td>\n",
       "      <td>0</td>\n",
       "      <td>0</td>\n",
       "      <td>0</td>\n",
       "      <td>0</td>\n",
       "      <td>0</td>\n",
       "      <td>0</td>\n",
       "      <td>0</td>\n",
       "    </tr>\n",
       "    <tr>\n",
       "      <th>2</th>\n",
       "      <td>1.0</td>\n",
       "      <td>1</td>\n",
       "      <td>0</td>\n",
       "      <td>1</td>\n",
       "      <td>0</td>\n",
       "      <td>1</td>\n",
       "      <td>0</td>\n",
       "      <td>0</td>\n",
       "      <td>0</td>\n",
       "      <td>0</td>\n",
       "      <td>0</td>\n",
       "      <td>0</td>\n",
       "      <td>0</td>\n",
       "      <td>1</td>\n",
       "      <td>0</td>\n",
       "      <td>0</td>\n",
       "      <td>0</td>\n",
       "      <td>0</td>\n",
       "      <td>0</td>\n",
       "      <td>0</td>\n",
       "    </tr>\n",
       "    <tr>\n",
       "      <th>3</th>\n",
       "      <td>1.0</td>\n",
       "      <td>0</td>\n",
       "      <td>1</td>\n",
       "      <td>1</td>\n",
       "      <td>0</td>\n",
       "      <td>0</td>\n",
       "      <td>0</td>\n",
       "      <td>0</td>\n",
       "      <td>0</td>\n",
       "      <td>0</td>\n",
       "      <td>0</td>\n",
       "      <td>0</td>\n",
       "      <td>1</td>\n",
       "      <td>0</td>\n",
       "      <td>0</td>\n",
       "      <td>0</td>\n",
       "      <td>0</td>\n",
       "      <td>0</td>\n",
       "      <td>0</td>\n",
       "      <td>0</td>\n",
       "    </tr>\n",
       "    <tr>\n",
       "      <th>4</th>\n",
       "      <td>1.0</td>\n",
       "      <td>0</td>\n",
       "      <td>0</td>\n",
       "      <td>0</td>\n",
       "      <td>0</td>\n",
       "      <td>0</td>\n",
       "      <td>0</td>\n",
       "      <td>0</td>\n",
       "      <td>0</td>\n",
       "      <td>0</td>\n",
       "      <td>1</td>\n",
       "      <td>0</td>\n",
       "      <td>0</td>\n",
       "      <td>0</td>\n",
       "      <td>0</td>\n",
       "      <td>0</td>\n",
       "      <td>0</td>\n",
       "      <td>1</td>\n",
       "      <td>0</td>\n",
       "      <td>0</td>\n",
       "    </tr>\n",
       "  </tbody>\n",
       "</table>\n",
       "</div>"
      ],
      "text/plain": [
       "   Intercept  Gender_M  Gender_U  Resident_H  Resident_P  Pregnancy_Test  \\\n",
       "0        1.0         1         0           0           0               1   \n",
       "1        1.0         1         0           1           0               1   \n",
       "2        1.0         1         0           1           0               1   \n",
       "3        1.0         0         1           1           0               0   \n",
       "4        1.0         0         0           0           0               0   \n",
       "\n",
       "   Birth_Control  Feminine_Hygiene  Folic_Acid  Prenatal_Vitamins  \\\n",
       "0              0                 0           0                  1   \n",
       "1              0                 0           0                  1   \n",
       "2              0                 0           0                  0   \n",
       "3              0                 0           0                  0   \n",
       "4              0                 0           0                  0   \n",
       "\n",
       "   Prenatal_Yoga  Body_Pillow  Ginger_Ale  Sea_Bands  Stopped_buying_ciggies  \\\n",
       "0              0            0           0          0                       0   \n",
       "1              0            0           0          0                       0   \n",
       "2              0            0           0          1                       0   \n",
       "3              0            0           1          0                       0   \n",
       "4              1            0           0          0                       0   \n",
       "\n",
       "   Cigarettes  Smoking_Cessation  Stopped_buying_wine  Wine  Maternity_Clothes  \n",
       "0           0                  0                    0     0                  0  \n",
       "1           0                  0                    0     0                  0  \n",
       "2           0                  0                    0     0                  0  \n",
       "3           0                  0                    0     0                  0  \n",
       "4           0                  0                    1     0                  0  "
      ]
     },
     "execution_count": 6,
     "metadata": {},
     "output_type": "execute_result"
    }
   ],
   "source": [
    "# make clean dataframe for regression model\n",
    "cols_to_keep = df_accounts.columns[2:len(df_accounts.columns)-1] # keep all but 'Pregnant' var\n",
    "# add dummy vars back in\n",
    "data = pd.concat([dummy_gender.ix[:, 'Gender_M':],dummy_resident.ix[:, 'Resident_H':],df_accounts[cols_to_keep]], axis=1)\n",
    "data.insert(0, 'Intercept', 1.0) # manually add the intercept\n",
    "data.head()"
   ]
  },
  {
   "cell_type": "code",
   "execution_count": 7,
   "metadata": {
    "collapsed": false
   },
   "outputs": [
    {
     "name": "stdout",
     "output_type": "stream",
     "text": [
      "Optimization terminated successfully.\n",
      "         Current function value: 0.373878\n",
      "         Iterations 8\n"
     ]
    }
   ],
   "source": [
    "from patsy import dmatrices\n",
    "import statsmodels.api as sm\n",
    "\n",
    "train_cols = data.columns[1:]\n",
    "logit = sm.Logit(df_accounts['Pregnant'], data[train_cols])\n",
    "\n",
    "# fit the model\n",
    "result = logit.fit()"
   ]
  },
  {
   "cell_type": "code",
   "execution_count": 8,
   "metadata": {
    "collapsed": false
   },
   "outputs": [
    {
     "name": "stdout",
     "output_type": "stream",
     "text": [
      "Parameters:\n",
      "Gender_M                 -0.616638\n",
      "Gender_U                 -0.021343\n",
      "Resident_H               -0.367855\n",
      "Resident_P               -0.209655\n",
      "Pregnancy_Test            2.319395\n",
      "Birth_Control            -2.400243\n",
      "Feminine_Hygiene         -2.084057\n",
      "Folic_Acid                4.048098\n",
      "Prenatal_Vitamins         2.402392\n",
      "Prenatal_Yoga             2.969468\n",
      "Body_Pillow               1.256653\n",
      "Ginger_Ale                1.884790\n",
      "Sea_Bands                 0.940477\n",
      "Stopped_buying_ciggies    1.218470\n",
      "Cigarettes               -1.528444\n",
      "Smoking_Cessation         1.750957\n",
      "Stopped_buying_wine       1.276292\n",
      "Wine                     -1.676815\n",
      "Maternity_Clothes         2.003167\n",
      "dtype: float64\n",
      "                           Logit Regression Results                           \n",
      "==============================================================================\n",
      "Dep. Variable:               Pregnant   No. Observations:                 1000\n",
      "Model:                          Logit   Df Residuals:                      981\n",
      "Method:                           MLE   Df Model:                           18\n",
      "Date:                Sat, 03 Dec 2016   Pseudo R-squ.:                  0.4606\n",
      "Time:                        21:45:13   Log-Likelihood:                -373.88\n",
      "converged:                       True   LL-Null:                       -693.15\n",
      "                                        LLR p-value:                6.050e-124\n",
      "==========================================================================================\n",
      "                             coef    std err          z      P>|z|      [95.0% Conf. Int.]\n",
      "------------------------------------------------------------------------------------------\n",
      "Gender_M                  -0.6166      0.177     -3.481      0.000        -0.964    -0.269\n",
      "Gender_U                  -0.0213      0.295     -0.072      0.942        -0.599     0.556\n",
      "Resident_H                -0.3679      0.165     -2.228      0.026        -0.691    -0.044\n",
      "Resident_P                -0.2097      0.317     -0.662      0.508        -0.830     0.411\n",
      "Pregnancy_Test             2.3194      0.525      4.418      0.000         1.290     3.348\n",
      "Birth_Control             -2.4002      0.360     -6.670      0.000        -3.106    -1.695\n",
      "Feminine_Hygiene          -2.0841      0.337     -6.182      0.000        -2.745    -1.423\n",
      "Folic_Acid                 4.0481      0.764      5.300      0.000         2.551     5.545\n",
      "Prenatal_Vitamins          2.4024      0.372      6.463      0.000         1.674     3.131\n",
      "Prenatal_Yoga              2.9695      1.158      2.565      0.010         0.701     5.238\n",
      "Body_Pillow                1.2567      0.860      1.462      0.144        -0.429     2.942\n",
      "Ginger_Ale                 1.8848      0.428      4.401      0.000         1.045     2.724\n",
      "Sea_Bands                  0.9405      0.671      1.401      0.161        -0.376     2.256\n",
      "Stopped_buying_ciggies     1.2185      0.340      3.586      0.000         0.552     1.885\n",
      "Cigarettes                -1.5284      0.365     -4.185      0.000        -2.244    -0.813\n",
      "Smoking_Cessation          1.7510      0.514      3.405      0.001         0.743     2.759\n",
      "Stopped_buying_wine        1.2763      0.302      4.232      0.000         0.685     1.867\n",
      "Wine                      -1.6768      0.340     -4.927      0.000        -2.344    -1.010\n",
      "Maternity_Clothes          2.0032      0.330      6.074      0.000         1.357     2.650\n",
      "==========================================================================================\n"
     ]
    }
   ],
   "source": [
    "print('Parameters:')\n",
    "print(result.params)\n",
    "print(result.summary())"
   ]
  },
  {
   "cell_type": "markdown",
   "metadata": {},
   "source": [
    "logistic reg revisited with sklearn"
   ]
  },
  {
   "cell_type": "code",
   "execution_count": 10,
   "metadata": {
    "collapsed": false
   },
   "outputs": [
    {
     "name": "stdout",
     "output_type": "stream",
     "text": [
      "0.88\n"
     ]
    },
    {
     "name": "stderr",
     "output_type": "stream",
     "text": [
      "D:\\Anaconda\\lib\\site-packages\\sklearn\\cross_validation.py:44: DeprecationWarning: This module was deprecated in version 0.18 in favor of the model_selection module into which all the refactored classes and functions are moved. Also note that the interface of the new CV iterators are different from that of this module. This module will be removed in 0.20.\n",
      "  \"This module will be removed in 0.20.\", DeprecationWarning)\n"
     ]
    }
   ],
   "source": [
    "# define X and y\n",
    "X = data[train_cols]\n",
    "y = df_accounts['Pregnant']\n",
    "\n",
    "# train/test split\n",
    "from sklearn.cross_validation import train_test_split\n",
    "X_train, X_test, y_train, y_test = train_test_split(X, y, random_state=1)\n",
    "\n",
    "# train a logistic regression model\n",
    "from sklearn.linear_model import LogisticRegression\n",
    "logreg = LogisticRegression(C=1e9)\n",
    "logreg.fit(X_train, y_train)\n",
    "\n",
    "# make predictions for testing set\n",
    "y_pred_class = logreg.predict(X_test)\n",
    "\n",
    "# calculate testing accuracy\n",
    "from sklearn import metrics\n",
    "print(metrics.accuracy_score(y_test, y_pred_class))"
   ]
  },
  {
   "cell_type": "code",
   "execution_count": 17,
   "metadata": {
    "collapsed": false
   },
   "outputs": [
    {
     "data": {
      "image/png": "[encoded data removed]",
      "text/plain": [
       "<matplotlib.figure.Figure at 0x29717588470>"
      ]
     },
     "metadata": {},
     "output_type": "display_data"
    }
   ],
   "source": [
    "# predict probability of survival\n",
    "y_pred_prob = logreg.predict_proba(X_test)[:, 1]\n",
    "\n",
    "import matplotlib.pyplot as plt\n",
    "\n",
    "# plot ROC curve\n",
    "fpr, tpr, thresholds = metrics.roc_curve(y_test, y_pred_prob)\n",
    "plt.plot(fpr, tpr)\n",
    "plt.xlim([0.0, 1.0])\n",
    "plt.ylim([0.0, 1.0])\n",
    "plt.xlabel('False Positive Rate (1 - Specificity)')\n",
    "plt.ylabel('True Positive Rate (Sensitivity)')\n",
    "plt.show()"
   ]
  },
  {
   "cell_type": "code",
   "execution_count": 19,
   "metadata": {
    "collapsed": false
   },
   "outputs": [
    {
     "name": "stdout",
     "output_type": "stream",
     "text": [
      "0.94394259722\n"
     ]
    }
   ],
   "source": [
    "# calculate AUC\n",
    "print(metrics.roc_auc_score(y_test, y_pred_prob))"
   ]
  },
  {
   "cell_type": "code",
   "execution_count": 20,
   "metadata": {
    "collapsed": false
   },
   "outputs": [
    {
     "data": {
      "image/png": "[encoded data removed]",
      "text/plain": [
       "<matplotlib.figure.Figure at 0x297173474e0>"
      ]
     },
     "metadata": {},
     "output_type": "display_data"
    }
   ],
   "source": [
    "# histogram of predicted probabilities grouped by actual response value\n",
    "df = pd.DataFrame({'probability':y_pred_prob, 'actual':y_test})\n",
    "df.hist(column='probability', by='actual', sharex=True, sharey=True)\n",
    "plt.show()"
   ]
  },
  {
   "cell_type": "code",
   "execution_count": 21,
   "metadata": {
    "collapsed": false
   },
   "outputs": [
    {
     "data": {
      "text/plain": [
       "0.89871999999999996"
      ]
     },
     "execution_count": 21,
     "metadata": {},
     "output_type": "execute_result"
    }
   ],
   "source": [
    "# calculate cross-validated AUC\n",
    "from sklearn.cross_validation import cross_val_score\n",
    "cross_val_score(logreg, X, y, cv=10, scoring='roc_auc').mean()"
   ]
  },
  {
   "cell_type": "markdown",
   "metadata": {},
   "source": [
    "Random forest feature selection"
   ]
  },
  {
   "cell_type": "code",
   "execution_count": 211,
   "metadata": {
    "collapsed": false
   },
   "outputs": [
    {
     "data": {
      "text/plain": [
       "RandomForestClassifier(bootstrap=True, class_weight=None, criterion='gini',\n",
       "            max_depth=None, max_features='auto', max_leaf_nodes=None,\n",
       "            min_impurity_split=1e-07, min_samples_leaf=1,\n",
       "            min_samples_split=2, min_weight_fraction_leaf=0.0,\n",
       "            n_estimators=500, n_jobs=-1, oob_score=False,\n",
       "            random_state=None, verbose=0, warm_start=False)"
      ]
     },
     "execution_count": 211,
     "metadata": {},
     "output_type": "execute_result"
    }
   ],
   "source": [
    "from sklearn.ensemble import RandomForestClassifier\n",
    "import matplotlib.pyplot as plt\n",
    "\n",
    "clf = RandomForestClassifier(n_estimators = 500, n_jobs = -1)\n",
    "clf.fit(data[train_cols], df_accounts['Pregnant'])"
   ]
  },
  {
   "cell_type": "code",
   "execution_count": 212,
   "metadata": {
    "collapsed": false
   },
   "outputs": [
    {
     "data": {
      "image/png": "[encoded data removed]",
      "text/plain": [
       "<matplotlib.figure.Figure at 0x1ff6ed8b358>"
      ]
     },
     "metadata": {},
     "output_type": "display_data"
    }
   ],
   "source": [
    "# sort the features by importance\n",
    "sorted_idx = clf.feature_importances_\n",
    "df_features = pd.DataFrame({\"Feature\": train_cols})\n",
    "df_features['Importance'] = sorted_idx\n",
    "\n",
    "df_features = df_features.sort_values(by=['Importance'], ascending=[True]) # sort my most important feature\n",
    "ax = df_features.plot(kind='barh', title =\"Classification Feature Importance\", figsize=(15, 10), legend=False, fontsize=12)\n",
    "ax.set_xlabel(\"Importance\", fontsize=12)\n",
    "ax.set_yticklabels(df_features['Feature'])\n",
    "plt.show()"
   ]
  },
  {
   "cell_type": "markdown",
   "metadata": {},
   "source": [
    "We can see that the purchase of Folic Acid is a much better predictor of a customer pregnancy, surprisingly more so than an intrest in Prenatal Yoga (presumably more expectant mother use folic acid than take up yoga)---this information could be used to accurately target the advertisment of baby products"
   ]
  },
  {
   "cell_type": "code",
   "execution_count": null,
   "metadata": {
    "collapsed": true
   },
   "outputs": [],
   "source": []
  }
 ],
 "metadata": {
  "anaconda-cloud": {},
  "kernelspec": {
   "display_name": "Python [conda root]",
   "language": "python",
   "name": "conda-root-py"
  },
  "language_info": {
   "codemirror_mode": {
    "name": "ipython",
    "version": 3
   },
   "file_extension": ".py",
   "mimetype": "text/x-python",
   "name": "python",
   "nbconvert_exporter": "python",
   "pygments_lexer": "ipython3",
   "version": "3.5.2"
  }
 },
 "nbformat": 4,
 "nbformat_minor": 1
}
