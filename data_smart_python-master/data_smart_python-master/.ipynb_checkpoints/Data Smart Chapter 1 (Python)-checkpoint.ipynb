{
 "cells": [
  {
   "cell_type": "markdown",
   "metadata": {},
   "source": [
    "##### 1.0 Load data from http://media.wiley.com/product_ancillary/6X/11186614/DOWNLOAD/ch01.zip, Concessions.xlsx"
   ]
  },
  {
   "cell_type": "code",
   "execution_count": 1,
   "metadata": {
    "collapsed": false
   },
   "outputs": [
    {
     "data": {
      "text/html": [
       "<div>\n",
       "<table border=\"1\" class=\"dataframe\">\n",
       "  <thead>\n",
       "    <tr style=\"text-align: right;\">\n",
       "      <th></th>\n",
       "      <th>Item</th>\n",
       "      <th>Category</th>\n",
       "      <th>Price</th>\n",
       "      <th>Profit</th>\n",
       "    </tr>\n",
       "  </thead>\n",
       "  <tbody>\n",
       "    <tr>\n",
       "      <th>0</th>\n",
       "      <td>Beer</td>\n",
       "      <td>Beverages</td>\n",
       "      <td>4.0</td>\n",
       "      <td>0.500000</td>\n",
       "    </tr>\n",
       "    <tr>\n",
       "      <th>1</th>\n",
       "      <td>Hamburger</td>\n",
       "      <td>Hot Food</td>\n",
       "      <td>3.0</td>\n",
       "      <td>0.666667</td>\n",
       "    </tr>\n",
       "    <tr>\n",
       "      <th>2</th>\n",
       "      <td>Popcorn</td>\n",
       "      <td>Hot Food</td>\n",
       "      <td>5.0</td>\n",
       "      <td>0.800000</td>\n",
       "    </tr>\n",
       "    <tr>\n",
       "      <th>3</th>\n",
       "      <td>Pizza</td>\n",
       "      <td>Hot Food</td>\n",
       "      <td>2.0</td>\n",
       "      <td>0.250000</td>\n",
       "    </tr>\n",
       "    <tr>\n",
       "      <th>4</th>\n",
       "      <td>Bottled Water</td>\n",
       "      <td>Beverages</td>\n",
       "      <td>3.0</td>\n",
       "      <td>0.833333</td>\n",
       "    </tr>\n",
       "  </tbody>\n",
       "</table>\n",
       "</div>"
      ],
      "text/plain": [
       "            Item   Category  Price    Profit\n",
       "0           Beer  Beverages    4.0  0.500000\n",
       "1      Hamburger   Hot Food    3.0  0.666667\n",
       "2        Popcorn   Hot Food    5.0  0.800000\n",
       "3          Pizza   Hot Food    2.0  0.250000\n",
       "4  Bottled Water  Beverages    3.0  0.833333"
      ]
     },
     "execution_count": 1,
     "metadata": {},
     "output_type": "execute_result"
    }
   ],
   "source": [
    "# code written in python_3. (for py_2.7 users some changes may be required)\n",
    "\n",
    "import pandas # load pandas dataframe lib\n",
    "import matplotlib.pyplot as plt\n",
    "plt.style.use('ggplot')\n",
    "import numpy as np\n",
    "\n",
    "# find path to your Concessions.xlsx\n",
    "# df = short for dataframe == excel worksheet\n",
    "# zero indexing in python, so first worksheet = 0\n",
    "df_sales = pandas.read_excel(open('C:/Users/craigrshenton/Desktop/Dropbox/excel_data_sci/ch01_complete/Concessions.xlsx','rb'), sheetname=0) \n",
    "df_sales = df_sales.iloc[0:, 0:4]\n",
    "df_sales.head() # use .head() to just show top 4 results"
   ]
  },
  {
   "cell_type": "code",
   "execution_count": 2,
   "metadata": {
    "collapsed": false
   },
   "outputs": [
    {
     "data": {
      "text/plain": [
       "Item         object\n",
       "Category     object\n",
       "Price       float64\n",
       "Profit      float64\n",
       "dtype: object"
      ]
     },
     "execution_count": 2,
     "metadata": {},
     "output_type": "execute_result"
    }
   ],
   "source": [
    "df_sales.dtypes # explore the dataframe"
   ]
  },
  {
   "cell_type": "code",
   "execution_count": 3,
   "metadata": {
    "collapsed": false
   },
   "outputs": [
    {
     "data": {
      "text/plain": [
       "0             Beer\n",
       "1        Hamburger\n",
       "2          Popcorn\n",
       "3            Pizza\n",
       "4    Bottled Water\n",
       "Name: Item, dtype: object"
      ]
     },
     "execution_count": 3,
     "metadata": {},
     "output_type": "execute_result"
    }
   ],
   "source": [
    "df_sales['Item'].head() # how to select a col"
   ]
  },
  {
   "cell_type": "code",
   "execution_count": 4,
   "metadata": {
    "collapsed": false
   },
   "outputs": [
    {
     "data": {
      "text/plain": [
       "count    199.000000\n",
       "mean       2.829146\n",
       "std        0.932551\n",
       "min        1.500000\n",
       "25%        2.000000\n",
       "50%        3.000000\n",
       "75%        3.000000\n",
       "max        5.000000\n",
       "Name: Price, dtype: float64"
      ]
     },
     "execution_count": 4,
     "metadata": {},
     "output_type": "execute_result"
    }
   ],
   "source": [
    "df_sales['Price'].describe() # basic stats"
   ]
  },
  {
   "cell_type": "markdown",
   "metadata": {},
   "source": [
    "##### 1.2 Calculate Actual Profit"
   ]
  },
  {
   "cell_type": "code",
   "execution_count": 5,
   "metadata": {
    "collapsed": false
   },
   "outputs": [
    {
     "data": {
      "text/html": [
       "<div>\n",
       "<table border=\"1\" class=\"dataframe\">\n",
       "  <thead>\n",
       "    <tr style=\"text-align: right;\">\n",
       "      <th></th>\n",
       "      <th>Item</th>\n",
       "      <th>Category</th>\n",
       "      <th>Price</th>\n",
       "      <th>Profit</th>\n",
       "      <th>Actual_Profit</th>\n",
       "    </tr>\n",
       "  </thead>\n",
       "  <tbody>\n",
       "    <tr>\n",
       "      <th>0</th>\n",
       "      <td>Beer</td>\n",
       "      <td>Beverages</td>\n",
       "      <td>4.0</td>\n",
       "      <td>0.500000</td>\n",
       "      <td>2.0</td>\n",
       "    </tr>\n",
       "    <tr>\n",
       "      <th>1</th>\n",
       "      <td>Hamburger</td>\n",
       "      <td>Hot Food</td>\n",
       "      <td>3.0</td>\n",
       "      <td>0.666667</td>\n",
       "      <td>2.0</td>\n",
       "    </tr>\n",
       "    <tr>\n",
       "      <th>2</th>\n",
       "      <td>Popcorn</td>\n",
       "      <td>Hot Food</td>\n",
       "      <td>5.0</td>\n",
       "      <td>0.800000</td>\n",
       "      <td>4.0</td>\n",
       "    </tr>\n",
       "    <tr>\n",
       "      <th>3</th>\n",
       "      <td>Pizza</td>\n",
       "      <td>Hot Food</td>\n",
       "      <td>2.0</td>\n",
       "      <td>0.250000</td>\n",
       "      <td>0.5</td>\n",
       "    </tr>\n",
       "    <tr>\n",
       "      <th>4</th>\n",
       "      <td>Bottled Water</td>\n",
       "      <td>Beverages</td>\n",
       "      <td>3.0</td>\n",
       "      <td>0.833333</td>\n",
       "      <td>2.5</td>\n",
       "    </tr>\n",
       "  </tbody>\n",
       "</table>\n",
       "</div>"
      ],
      "text/plain": [
       "            Item   Category  Price    Profit  Actual_Profit\n",
       "0           Beer  Beverages    4.0  0.500000            2.0\n",
       "1      Hamburger   Hot Food    3.0  0.666667            2.0\n",
       "2        Popcorn   Hot Food    5.0  0.800000            4.0\n",
       "3          Pizza   Hot Food    2.0  0.250000            0.5\n",
       "4  Bottled Water  Beverages    3.0  0.833333            2.5"
      ]
     },
     "execution_count": 5,
     "metadata": {},
     "output_type": "execute_result"
    }
   ],
   "source": [
    "df_sales = df_sales.assign(Actual_Profit = df_sales['Price']*df_sales['Profit']) # adds new col\n",
    "df_sales.head()"
   ]
  },
  {
   "cell_type": "markdown",
   "metadata": {},
   "source": [
    "##### 1.3 Load data from 'Calories' worksheet and plot"
   ]
  },
  {
   "cell_type": "code",
   "execution_count": 45,
   "metadata": {
    "collapsed": false
   },
   "outputs": [
    {
     "data": {
      "text/html": [
       "<div>\n",
       "<table border=\"1\" class=\"dataframe\">\n",
       "  <thead>\n",
       "    <tr style=\"text-align: right;\">\n",
       "      <th></th>\n",
       "      <th>Item</th>\n",
       "      <th>Calories</th>\n",
       "    </tr>\n",
       "  </thead>\n",
       "  <tbody>\n",
       "    <tr>\n",
       "      <th>0</th>\n",
       "      <td>Beer</td>\n",
       "      <td>200</td>\n",
       "    </tr>\n",
       "    <tr>\n",
       "      <th>1</th>\n",
       "      <td>Bottled Water</td>\n",
       "      <td>0</td>\n",
       "    </tr>\n",
       "    <tr>\n",
       "      <th>2</th>\n",
       "      <td>Chocolate Bar</td>\n",
       "      <td>255</td>\n",
       "    </tr>\n",
       "    <tr>\n",
       "      <th>3</th>\n",
       "      <td>Chocolate Dipped Cone</td>\n",
       "      <td>300</td>\n",
       "    </tr>\n",
       "    <tr>\n",
       "      <th>4</th>\n",
       "      <td>Gummy Bears</td>\n",
       "      <td>300</td>\n",
       "    </tr>\n",
       "  </tbody>\n",
       "</table>\n",
       "</div>"
      ],
      "text/plain": [
       "                    Item Calories\n",
       "0                   Beer      200\n",
       "1          Bottled Water        0\n",
       "2          Chocolate Bar      255\n",
       "3  Chocolate Dipped Cone      300\n",
       "4            Gummy Bears      300"
      ]
     },
     "execution_count": 45,
     "metadata": {},
     "output_type": "execute_result"
    }
   ],
   "source": [
    "# find path to your Concessions.xlsx \n",
    "df_cals = pandas.read_excel(open('C:/Users/craigrshenton/Desktop/Dropbox/excel_data_sci/ch01_complete/Concessions.xlsx','rb'), sheetname=1) \n",
    "df_cals = df_cals.iloc[0:14, 0:2] # take data from 'Calories' worksheet\n",
    "df_cals.head()"
   ]
  },
  {
   "cell_type": "code",
   "execution_count": 46,
   "metadata": {
    "collapsed": false
   },
   "outputs": [
    {
     "data": {
      "image/png": "[encoded data removed]",
      "text/plain": [
       "<matplotlib.figure.Figure at 0x27022611518>"
      ]
     },
     "metadata": {},
     "output_type": "display_data"
    }
   ],
   "source": [
    "df_cals = df_cals.set_index('Item') # index df by items\n",
    "# Items ranked by calories = .sort_values(by='Calories',ascending=True) \n",
    "# rot = axis rotation\n",
    "ax = df_cals.sort_values(by='Calories',ascending=True).plot(kind='bar', title =\"Calories\",figsize=(15,5),legend=False, fontsize=10, alpha=0.75, rot=20,)\n",
    "plt.xlabel(\"\") # no x-axis lable\n",
    "plt.show()"
   ]
  },
  {
   "cell_type": "markdown",
   "metadata": {
    "collapsed": true
   },
   "source": [
    "##### 1.4 add calorie data to sales worksheet"
   ]
  },
  {
   "cell_type": "code",
   "execution_count": 8,
   "metadata": {
    "collapsed": false
   },
   "outputs": [
    {
     "data": {
      "text/html": [
       "<div>\n",
       "<table border=\"1\" class=\"dataframe\">\n",
       "  <thead>\n",
       "    <tr style=\"text-align: right;\">\n",
       "      <th></th>\n",
       "      <th>Item</th>\n",
       "      <th>Category</th>\n",
       "      <th>Price</th>\n",
       "      <th>Profit</th>\n",
       "      <th>Actual_Profit</th>\n",
       "      <th>Calories</th>\n",
       "    </tr>\n",
       "  </thead>\n",
       "  <tbody>\n",
       "    <tr>\n",
       "      <th>0</th>\n",
       "      <td>Beer</td>\n",
       "      <td>Beverages</td>\n",
       "      <td>4.0</td>\n",
       "      <td>0.500000</td>\n",
       "      <td>2.0</td>\n",
       "      <td>200</td>\n",
       "    </tr>\n",
       "    <tr>\n",
       "      <th>1</th>\n",
       "      <td>Hamburger</td>\n",
       "      <td>Hot Food</td>\n",
       "      <td>3.0</td>\n",
       "      <td>0.666667</td>\n",
       "      <td>2.0</td>\n",
       "      <td>320</td>\n",
       "    </tr>\n",
       "    <tr>\n",
       "      <th>2</th>\n",
       "      <td>Popcorn</td>\n",
       "      <td>Hot Food</td>\n",
       "      <td>5.0</td>\n",
       "      <td>0.800000</td>\n",
       "      <td>4.0</td>\n",
       "      <td>500</td>\n",
       "    </tr>\n",
       "    <tr>\n",
       "      <th>3</th>\n",
       "      <td>Pizza</td>\n",
       "      <td>Hot Food</td>\n",
       "      <td>2.0</td>\n",
       "      <td>0.250000</td>\n",
       "      <td>0.5</td>\n",
       "      <td>480</td>\n",
       "    </tr>\n",
       "    <tr>\n",
       "      <th>4</th>\n",
       "      <td>Bottled Water</td>\n",
       "      <td>Beverages</td>\n",
       "      <td>3.0</td>\n",
       "      <td>0.833333</td>\n",
       "      <td>2.5</td>\n",
       "      <td>0</td>\n",
       "    </tr>\n",
       "  </tbody>\n",
       "</table>\n",
       "</div>"
      ],
      "text/plain": [
       "            Item   Category  Price    Profit  Actual_Profit Calories\n",
       "0           Beer  Beverages    4.0  0.500000            2.0      200\n",
       "1      Hamburger   Hot Food    3.0  0.666667            2.0      320\n",
       "2        Popcorn   Hot Food    5.0  0.800000            4.0      500\n",
       "3          Pizza   Hot Food    2.0  0.250000            0.5      480\n",
       "4  Bottled Water  Beverages    3.0  0.833333            2.5        0"
      ]
     },
     "execution_count": 8,
     "metadata": {},
     "output_type": "execute_result"
    }
   ],
   "source": [
    "df_sales = df_sales.assign(Calories=df_sales['Item'].map(df_cals['Calories'])) # map num calories from df_cals per item in df_sales (==Vlookup)\n",
    "df_sales.head()"
   ]
  },
  {
   "cell_type": "markdown",
   "metadata": {},
   "source": [
    "##### 1.5 pivot table: number of sales per item"
   ]
  },
  {
   "cell_type": "code",
   "execution_count": 9,
   "metadata": {
    "collapsed": false
   },
   "outputs": [
    {
     "data": {
      "text/html": [
       "<div>\n",
       "<table border=\"1\" class=\"dataframe\">\n",
       "  <thead>\n",
       "    <tr style=\"text-align: right;\">\n",
       "      <th></th>\n",
       "      <th>Count</th>\n",
       "    </tr>\n",
       "  </thead>\n",
       "  <tbody>\n",
       "    <tr>\n",
       "      <th>Beer</th>\n",
       "      <td>20.0</td>\n",
       "    </tr>\n",
       "    <tr>\n",
       "      <th>Bottled Water</th>\n",
       "      <td>13.0</td>\n",
       "    </tr>\n",
       "    <tr>\n",
       "      <th>Chocolate Bar</th>\n",
       "      <td>13.0</td>\n",
       "    </tr>\n",
       "    <tr>\n",
       "      <th>Chocolate Dipped Cone</th>\n",
       "      <td>11.0</td>\n",
       "    </tr>\n",
       "    <tr>\n",
       "      <th>Gummy Bears</th>\n",
       "      <td>14.0</td>\n",
       "    </tr>\n",
       "    <tr>\n",
       "      <th>Hamburger</th>\n",
       "      <td>16.0</td>\n",
       "    </tr>\n",
       "    <tr>\n",
       "      <th>Hot Dog</th>\n",
       "      <td>15.0</td>\n",
       "    </tr>\n",
       "    <tr>\n",
       "      <th>Ice Cream Sandwich</th>\n",
       "      <td>10.0</td>\n",
       "    </tr>\n",
       "    <tr>\n",
       "      <th>Licorice Rope</th>\n",
       "      <td>13.0</td>\n",
       "    </tr>\n",
       "    <tr>\n",
       "      <th>Nachos</th>\n",
       "      <td>15.0</td>\n",
       "    </tr>\n",
       "    <tr>\n",
       "      <th>Pizza</th>\n",
       "      <td>17.0</td>\n",
       "    </tr>\n",
       "    <tr>\n",
       "      <th>Popcorn</th>\n",
       "      <td>16.0</td>\n",
       "    </tr>\n",
       "    <tr>\n",
       "      <th>Popsicle</th>\n",
       "      <td>13.0</td>\n",
       "    </tr>\n",
       "    <tr>\n",
       "      <th>Soda</th>\n",
       "      <td>13.0</td>\n",
       "    </tr>\n",
       "  </tbody>\n",
       "</table>\n",
       "</div>"
      ],
      "text/plain": [
       "                       Count\n",
       "Beer                    20.0\n",
       "Bottled Water           13.0\n",
       "Chocolate Bar           13.0\n",
       "Chocolate Dipped Cone   11.0\n",
       "Gummy Bears             14.0\n",
       "Hamburger               16.0\n",
       "Hot Dog                 15.0\n",
       "Ice Cream Sandwich      10.0\n",
       "Licorice Rope           13.0\n",
       "Nachos                  15.0\n",
       "Pizza                   17.0\n",
       "Popcorn                 16.0\n",
       "Popsicle                13.0\n",
       "Soda                    13.0"
      ]
     },
     "execution_count": 9,
     "metadata": {},
     "output_type": "execute_result"
    }
   ],
   "source": [
    "pivot = pandas.pivot_table(df_sales, index=[\"Item\"], values=[\"Price\"], aggfunc=len) # len == 'count of price'\n",
    "pivot.columns = ['Count'] # renames col\n",
    "pivot.index.name = None # removes intex title which is not needed\n",
    "pivot"
   ]
  },
  {
   "cell_type": "markdown",
   "metadata": {},
   "source": [
    "##### 1.6 pivot table: revenue per item / category"
   ]
  },
  {
   "cell_type": "code",
   "execution_count": 10,
   "metadata": {
    "collapsed": false
   },
   "outputs": [
    {
     "data": {
      "text/html": [
       "<div>\n",
       "<table border=\"1\" class=\"dataframe\">\n",
       "  <thead>\n",
       "    <tr style=\"text-align: right;\">\n",
       "      <th>Category</th>\n",
       "      <th>Beverages</th>\n",
       "      <th>Candy</th>\n",
       "      <th>Frozen Treats</th>\n",
       "      <th>Hot Food</th>\n",
       "    </tr>\n",
       "  </thead>\n",
       "  <tbody>\n",
       "    <tr>\n",
       "      <th>Beer</th>\n",
       "      <td>80</td>\n",
       "      <td></td>\n",
       "      <td></td>\n",
       "      <td></td>\n",
       "    </tr>\n",
       "    <tr>\n",
       "      <th>Bottled Water</th>\n",
       "      <td>39</td>\n",
       "      <td></td>\n",
       "      <td></td>\n",
       "      <td></td>\n",
       "    </tr>\n",
       "    <tr>\n",
       "      <th>Chocolate Bar</th>\n",
       "      <td></td>\n",
       "      <td>26</td>\n",
       "      <td></td>\n",
       "      <td></td>\n",
       "    </tr>\n",
       "    <tr>\n",
       "      <th>Chocolate Dipped Cone</th>\n",
       "      <td></td>\n",
       "      <td></td>\n",
       "      <td>33</td>\n",
       "      <td></td>\n",
       "    </tr>\n",
       "    <tr>\n",
       "      <th>Gummy Bears</th>\n",
       "      <td></td>\n",
       "      <td>28</td>\n",
       "      <td></td>\n",
       "      <td></td>\n",
       "    </tr>\n",
       "    <tr>\n",
       "      <th>Hamburger</th>\n",
       "      <td></td>\n",
       "      <td></td>\n",
       "      <td></td>\n",
       "      <td>48</td>\n",
       "    </tr>\n",
       "    <tr>\n",
       "      <th>Hot Dog</th>\n",
       "      <td></td>\n",
       "      <td></td>\n",
       "      <td></td>\n",
       "      <td>22.5</td>\n",
       "    </tr>\n",
       "    <tr>\n",
       "      <th>Ice Cream Sandwich</th>\n",
       "      <td></td>\n",
       "      <td></td>\n",
       "      <td>30</td>\n",
       "      <td></td>\n",
       "    </tr>\n",
       "    <tr>\n",
       "      <th>Licorice Rope</th>\n",
       "      <td></td>\n",
       "      <td>26</td>\n",
       "      <td></td>\n",
       "      <td></td>\n",
       "    </tr>\n",
       "    <tr>\n",
       "      <th>Nachos</th>\n",
       "      <td></td>\n",
       "      <td></td>\n",
       "      <td></td>\n",
       "      <td>45</td>\n",
       "    </tr>\n",
       "    <tr>\n",
       "      <th>Pizza</th>\n",
       "      <td></td>\n",
       "      <td></td>\n",
       "      <td></td>\n",
       "      <td>34</td>\n",
       "    </tr>\n",
       "    <tr>\n",
       "      <th>Popcorn</th>\n",
       "      <td></td>\n",
       "      <td></td>\n",
       "      <td></td>\n",
       "      <td>80</td>\n",
       "    </tr>\n",
       "    <tr>\n",
       "      <th>Popsicle</th>\n",
       "      <td></td>\n",
       "      <td></td>\n",
       "      <td>39</td>\n",
       "      <td></td>\n",
       "    </tr>\n",
       "    <tr>\n",
       "      <th>Soda</th>\n",
       "      <td>32.5</td>\n",
       "      <td></td>\n",
       "      <td></td>\n",
       "      <td></td>\n",
       "    </tr>\n",
       "  </tbody>\n",
       "</table>\n",
       "</div>"
      ],
      "text/plain": [
       "Category              Beverages Candy Frozen Treats Hot Food\n",
       "Beer                         80                             \n",
       "Bottled Water                39                             \n",
       "Chocolate Bar                      26                       \n",
       "Chocolate Dipped Cone                            33         \n",
       "Gummy Bears                        28                       \n",
       "Hamburger                                                 48\n",
       "Hot Dog                                                 22.5\n",
       "Ice Cream Sandwich                               30         \n",
       "Licorice Rope                      26                       \n",
       "Nachos                                                    45\n",
       "Pizza                                                     34\n",
       "Popcorn                                                   80\n",
       "Popsicle                                         39         \n",
       "Soda                       32.5                             "
      ]
     },
     "execution_count": 10,
     "metadata": {},
     "output_type": "execute_result"
    }
   ],
   "source": [
    "# revenue = price * number of sales\n",
    "pivot = pandas.pivot_table(df_sales, index=[\"Item\"], values=[\"Price\"], columns=[\"Category\"], aggfunc=np.sum, fill_value='')\n",
    "pivot.index.name = None\n",
    "pivot.columns = pivot.columns.get_level_values(1) # sets cols to product categories\n",
    "pivot"
   ]
  },
  {
   "cell_type": "code",
   "execution_count": 64,
   "metadata": {
    "collapsed": false
   },
   "outputs": [
    {
     "data": {
      "text/plain": [
       "['Beer',\n",
       " 'Bottled Water',\n",
       " 'Chocolate Bar',\n",
       " 'Chocolate Dipped Cone',\n",
       " 'Gummy Bears',\n",
       " 'Hamburger',\n",
       " 'Hot Dog',\n",
       " 'Ice Cream Sandwich',\n",
       " 'Licorice Rope',\n",
       " 'Nachos',\n",
       " 'Pizza',\n",
       " 'Popcorn',\n",
       " 'Popsicle',\n",
       " 'Soda']"
      ]
     },
     "execution_count": 64,
     "metadata": {},
     "output_type": "execute_result"
    }
   ],
   "source": [
    "# set up decision variables\n",
    "items = df_cals.index.tolist()\n",
    "items"
   ]
  },
  {
   "cell_type": "code",
   "execution_count": 66,
   "metadata": {
    "collapsed": false
   },
   "outputs": [
    {
     "data": {
      "text/plain": [
       "{'Beer': 200,\n",
       " 'Bottled Water': 0,\n",
       " 'Chocolate Bar': 255,\n",
       " 'Chocolate Dipped Cone': 300,\n",
       " 'Gummy Bears': 300,\n",
       " 'Hamburger': 320,\n",
       " 'Hot Dog': 265,\n",
       " 'Ice Cream Sandwich': 240,\n",
       " 'Licorice Rope': 280,\n",
       " 'Nachos': 560,\n",
       " 'Pizza': 480,\n",
       " 'Popcorn': 500,\n",
       " 'Popsicle': 150,\n",
       " 'Soda': 120}"
      ]
     },
     "execution_count": 66,
     "metadata": {},
     "output_type": "execute_result"
    }
   ],
   "source": [
    "cost = dict(zip(df_cals.index, df_cals.Calories)) # calarific cost of each item\n",
    "cost"
   ]
  },
  {
   "cell_type": "code",
   "execution_count": 109,
   "metadata": {
    "collapsed": false
   },
   "outputs": [
    {
     "name": "stdout",
     "output_type": "stream",
     "text": [
      "Diet:\n",
      "MINIMIZE\n",
      "1*Number_of_Beer + 1*Number_of_Bottled_Water + 1*Number_of_Chocolate_Bar + 1*Number_of_Chocolate_Dipped_Cone + 1*Number_of_Gummy_Bears + 1*Number_of_Hamburger + 1*Number_of_Hot_Dog + 1*Number_of_Ice_Cream_Sandwich + 1*Number_of_Licorice_Rope + 1*Number_of_Nachos + 1*Number_of_Pizza + 1*Number_of_Popcorn + 1*Number_of_Popsicle + 1*Number_of_Soda + 0\n",
      "SUBJECT TO\n",
      "_C1: 200 Number_of_Beer + 255 Number_of_Chocolate_Bar\n",
      " + 300 Number_of_Chocolate_Dipped_Cone + 300 Number_of_Gummy_Bears\n",
      " + 320 Number_of_Hamburger + 265 Number_of_Hot_Dog\n",
      " + 240 Number_of_Ice_Cream_Sandwich + 280 Number_of_Licorice_Rope\n",
      " + 560 Number_of_Nachos + 480 Number_of_Pizza + 500 Number_of_Popcorn\n",
      " + 150 Number_of_Popsicle + 120 Number_of_Soda = 2400\n",
      "\n",
      "VARIABLES\n",
      "0 <= Number_of_Beer Integer\n",
      "0 <= Number_of_Bottled_Water Integer\n",
      "0 <= Number_of_Chocolate_Bar Integer\n",
      "0 <= Number_of_Chocolate_Dipped_Cone Integer\n",
      "0 <= Number_of_Gummy_Bears Integer\n",
      "0 <= Number_of_Hamburger Integer\n",
      "0 <= Number_of_Hot_Dog Integer\n",
      "0 <= Number_of_Ice_Cream_Sandwich Integer\n",
      "0 <= Number_of_Licorice_Rope Integer\n",
      "0 <= Number_of_Nachos Integer\n",
      "0 <= Number_of_Pizza Integer\n",
      "0 <= Number_of_Popcorn Integer\n",
      "0 <= Number_of_Popsicle Integer\n",
      "0 <= Number_of_Soda Integer\n",
      "\n"
     ]
    }
   ],
   "source": [
    "from pulp import *\n",
    "# create the LinProg object, set up as a minimisation problem\n",
    "prob = pulp.LpProblem('Diet', pulp.LpMinimize)\n",
    "\n",
    "vars = LpVariable.dicts(\"Number of\",items, lowBound = 0, cat='Integer')\n",
    "# Obj Func\n",
    "prob += lpSum([cost[c]*vars[c] for c in items])\n",
    "\n",
    "prob += sum(vars[c] for c in items)\n",
    "\n",
    "# add constraint representing demand for soldiers\n",
    "prob += (lpSum([cost[c]*vars[c] for c in items]) == 2400)\n",
    "\n",
    "print(prob)"
   ]
  },
  {
   "cell_type": "code",
   "execution_count": 110,
   "metadata": {
    "collapsed": false
   },
   "outputs": [
    {
     "name": "stdout",
     "output_type": "stream",
     "text": [
      "Status: Optimal\n",
      "Number_of_Beer = 0.0\n",
      "Number_of_Bottled_Water = 0.0\n",
      "Number_of_Chocolate_Bar = 0.0\n",
      "Number_of_Chocolate_Dipped_Cone = 0.0\n",
      "Number_of_Gummy_Bears = 0.0\n",
      "Number_of_Hamburger = 0.0\n",
      "Number_of_Hot_Dog = 0.0\n",
      "Number_of_Ice_Cream_Sandwich = 0.0\n",
      "Number_of_Licorice_Rope = 0.0\n",
      "Number_of_Nachos = 0.0\n",
      "Number_of_Pizza = 5.0\n",
      "Number_of_Popcorn = 0.0\n",
      "Number_of_Popsicle = 0.0\n",
      "Number_of_Soda = 0.0\n",
      "Minimum Number of Items =  5.0\n"
     ]
    }
   ],
   "source": [
    "prob.solve()\n",
    "\n",
    "# Is the solution optimal?\n",
    "print(\"Status:\", LpStatus[prob.status])\n",
    "# Each of the variables is printed with it's value\n",
    "for v in prob.variables():\n",
    "    print(v.name, \"=\", v.varValue)\n",
    "# The optimised objective function value is printed to the screen    \n",
    "print(\"Minimum Number of Items = \", value(prob.objective))"
   ]
  },
  {
   "cell_type": "code",
   "execution_count": null,
   "metadata": {
    "collapsed": true
   },
   "outputs": [],
   "source": []
  }
 ],
 "metadata": {
  "anaconda-cloud": {},
  "kernelspec": {
   "display_name": "Python [conda root]",
   "language": "python",
   "name": "conda-root-py"
  },
  "language_info": {
   "codemirror_mode": {
    "name": "ipython",
    "version": 3
   },
   "file_extension": ".py",
   "mimetype": "text/x-python",
   "name": "python",
   "nbconvert_exporter": "python",
   "pygments_lexer": "ipython3",
   "version": "3.5.2"
  }
 },
 "nbformat": 4,
 "nbformat_minor": 1
}
