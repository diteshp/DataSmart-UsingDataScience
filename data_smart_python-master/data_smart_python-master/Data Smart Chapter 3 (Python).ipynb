{
 "cells": [
  {
   "cell_type": "markdown",
   "metadata": {},
   "source": [
    "Load data from http://media.wiley.com/product_ancillary/6X/11186614/DOWNLOAD/ch03.zip, Mandrill.xlsx"
   ]
  },
  {
   "cell_type": "code",
   "execution_count": 1,
   "metadata": {
    "collapsed": false
   },
   "outputs": [],
   "source": [
    "# code written in py_3.0\n",
    "\n",
    "import pandas as pd\n",
    "import numpy as np"
   ]
  },
  {
   "cell_type": "markdown",
   "metadata": {},
   "source": [
    "Load HAM training data - i.e., tweets about the product"
   ]
  },
  {
   "cell_type": "code",
   "execution_count": 2,
   "metadata": {
    "collapsed": false
   },
   "outputs": [
    {
     "data": {
      "text/html": [
       "<div>\n",
       "<table border=\"1\" class=\"dataframe\">\n",
       "  <thead>\n",
       "    <tr style=\"text-align: right;\">\n",
       "      <th></th>\n",
       "      <th>Tweet</th>\n",
       "    </tr>\n",
       "  </thead>\n",
       "  <tbody>\n",
       "    <tr>\n",
       "      <th>0</th>\n",
       "      <td>[blog] Using Nullmailer and Mandrill for your ...</td>\n",
       "    </tr>\n",
       "    <tr>\n",
       "      <th>1</th>\n",
       "      <td>[blog] Using Postfix and free Mandrill email s...</td>\n",
       "    </tr>\n",
       "    <tr>\n",
       "      <th>2</th>\n",
       "      <td>@aalbertson There are several reasons emails g...</td>\n",
       "    </tr>\n",
       "    <tr>\n",
       "      <th>3</th>\n",
       "      <td>@adrienneleigh I just switched it over to Mand...</td>\n",
       "    </tr>\n",
       "    <tr>\n",
       "      <th>4</th>\n",
       "      <td>@ankeshk +1 to @mailchimp We use MailChimp for...</td>\n",
       "    </tr>\n",
       "  </tbody>\n",
       "</table>\n",
       "</div>"
      ],
      "text/plain": [
       "                                               Tweet\n",
       "0  [blog] Using Nullmailer and Mandrill for your ...\n",
       "1  [blog] Using Postfix and free Mandrill email s...\n",
       "2  @aalbertson There are several reasons emails g...\n",
       "3  @adrienneleigh I just switched it over to Mand...\n",
       "4  @ankeshk +1 to @mailchimp We use MailChimp for..."
      ]
     },
     "execution_count": 2,
     "metadata": {},
     "output_type": "execute_result"
    }
   ],
   "source": [
    "# find path to your Mandrill.xlsx\n",
    "df_ham = pd.read_excel(open('C:/Users/craigrshenton/Desktop/Dropbox/excel_data_sci/ch03/Mandrill.xlsx','rb'), sheetname=0)\n",
    "df_ham = df_ham.iloc[0:, 0:1]\n",
    "df_ham.head() # use .head() to just show top 5 results"
   ]
  },
  {
   "cell_type": "markdown",
   "metadata": {},
   "source": [
    "Load SPAM training data - i.e., tweets **NOT** about the product"
   ]
  },
  {
   "cell_type": "code",
   "execution_count": 3,
   "metadata": {
    "collapsed": false
   },
   "outputs": [
    {
     "data": {
      "text/html": [
       "<div>\n",
       "<table border=\"1\" class=\"dataframe\">\n",
       "  <thead>\n",
       "    <tr style=\"text-align: right;\">\n",
       "      <th></th>\n",
       "      <th>Tweet</th>\n",
       "    </tr>\n",
       "  </thead>\n",
       "  <tbody>\n",
       "    <tr>\n",
       "      <th>0</th>\n",
       "      <td>¿En donde esta su remontada Mandrill?</td>\n",
       "    </tr>\n",
       "    <tr>\n",
       "      <th>1</th>\n",
       "      <td>.@Katie_PhD Alternate, 'reproachful mandrill' ...</td>\n",
       "    </tr>\n",
       "    <tr>\n",
       "      <th>2</th>\n",
       "      <td>.@theophani can i get \"drill\" in there? it wou...</td>\n",
       "    </tr>\n",
       "    <tr>\n",
       "      <th>3</th>\n",
       "      <td>“@ChrisJBoyland: Baby Mandrill Paignton Zoo 29...</td>\n",
       "    </tr>\n",
       "    <tr>\n",
       "      <th>4</th>\n",
       "      <td>“@MISSMYA #NameAnAmazingBand MANDRILL!” Mint C...</td>\n",
       "    </tr>\n",
       "  </tbody>\n",
       "</table>\n",
       "</div>"
      ],
      "text/plain": [
       "                                               Tweet\n",
       "0              ¿En donde esta su remontada Mandrill?\n",
       "1  .@Katie_PhD Alternate, 'reproachful mandrill' ...\n",
       "2  .@theophani can i get \"drill\" in there? it wou...\n",
       "3  “@ChrisJBoyland: Baby Mandrill Paignton Zoo 29...\n",
       "4  “@MISSMYA #NameAnAmazingBand MANDRILL!” Mint C..."
      ]
     },
     "execution_count": 3,
     "metadata": {},
     "output_type": "execute_result"
    }
   ],
   "source": [
    "df_spam = pd.read_excel(open('C:/Users/craigrshenton/Desktop/Dropbox/excel_data_sci/ch03/Mandrill.xlsx','rb'), sheetname=1)\n",
    "df_spam = df_spam.iloc[0:, 0:1]\n",
    "df_spam.head()"
   ]
  },
  {
   "cell_type": "markdown",
   "metadata": {},
   "source": [
    "Install Natural Language Toolkit: http://www.nltk.org/install.html. You may also need to download nltk's dictionaries"
   ]
  },
  {
   "cell_type": "code",
   "execution_count": 4,
   "metadata": {
    "collapsed": true
   },
   "outputs": [],
   "source": [
    "# python -m nltk.downloader punkt"
   ]
  },
  {
   "cell_type": "code",
   "execution_count": 5,
   "metadata": {
    "collapsed": false
   },
   "outputs": [
    {
     "name": "stdout",
     "output_type": "stream",
     "text": [
      "['[', 'blog', ']', 'Using', 'Nullmailer', 'and', 'Mandrill', 'for', 'your', 'Ubuntu', 'Linux', 'server', 'outboud', 'mail', ':', 'http', ':', '//bit.ly/ZjHOk7', '#', 'plone']\n"
     ]
    }
   ],
   "source": [
    "from nltk.tokenize import word_tokenize\n",
    " \n",
    "test = df_ham.Tweet[0]\n",
    "print(word_tokenize(test))"
   ]
  },
  {
   "cell_type": "markdown",
   "metadata": {},
   "source": [
    "Following Marco Bonzanini's example https://marcobonzanini.com/2015/03/09/mining-twitter-data-with-python-part-2/, I setup a pre-processing chain that recognises '@-mentions', 'emoticons', 'URLs' and '#hash-tags' as tokens"
   ]
  },
  {
   "cell_type": "code",
   "execution_count": 6,
   "metadata": {
    "collapsed": true
   },
   "outputs": [],
   "source": [
    "import re\n",
    " \n",
    "emoticons_str = r\"\"\"\n",
    "    (?:\n",
    "        [:=;] # Eyes\n",
    "        [oO\\-]? # Nose (optional)\n",
    "        [D\\)\\]\\(\\]/\\\\OpP] # Mouth\n",
    "    )\"\"\"\n",
    " \n",
    "regex_str = [\n",
    "    emoticons_str,\n",
    "    r'<[^>]+>', # HTML tags\n",
    "    r'(?:@[\\w_]+)', # @-mentions\n",
    "    r\"(?:\\#+[\\w_]+[\\w\\'_\\-]*[\\w_]+)\", # hash-tags\n",
    "    r'http[s]?://(?:[a-z]|[0-9]|[$-_@.&amp;+]|[!*\\(\\),]|(?:%[0-9a-f][0-9a-f]))+', # URLs\n",
    " \n",
    "    r'(?:(?:\\d+,?)+(?:\\.?\\d+)?)', # numbers\n",
    "    r\"(?:[a-z][a-z'\\-_]+[a-z])\", # words with - and '\n",
    "    r'(?:[\\w_]+)', # other words\n",
    "    r'(?:\\S)' # anything else\n",
    "]\n",
    "    \n",
    "tokens_re = re.compile(r'('+'|'.join(regex_str)+')', re.VERBOSE | re.IGNORECASE)\n",
    "emoticon_re = re.compile(r'^'+emoticons_str+'$', re.VERBOSE | re.IGNORECASE)\n",
    " \n",
    "def tokenize(s):\n",
    "    return tokens_re.findall(s)\n",
    " \n",
    "def preprocess(s, lowercase=False):\n",
    "    tokens = tokenize(s)\n",
    "    if lowercase:\n",
    "        tokens = [token if emoticon_re.search(token) else token.lower() for token in tokens]\n",
    "    return tokens"
   ]
  },
  {
   "cell_type": "code",
   "execution_count": 7,
   "metadata": {
    "collapsed": false
   },
   "outputs": [
    {
     "name": "stdout",
     "output_type": "stream",
     "text": [
      "['[', 'blog', ']', 'Using', 'Nullmailer', 'and', 'Mandrill', 'for', 'your', 'Ubuntu', 'Linux', 'server', 'outboud', 'mail', ':', 'http://bit.ly/ZjHOk7', '#plone']\n"
     ]
    }
   ],
   "source": [
    "print(preprocess(test))"
   ]
  },
  {
   "cell_type": "code",
   "execution_count": 8,
   "metadata": {
    "collapsed": false
   },
   "outputs": [
    {
     "data": {
      "text/plain": [
       "['[',\n",
       " 'blog',\n",
       " ']',\n",
       " 'Using',\n",
       " 'Nullmailer',\n",
       " 'and',\n",
       " 'Mandrill',\n",
       " 'for',\n",
       " 'your',\n",
       " 'Ubuntu',\n",
       " 'Linux',\n",
       " 'server',\n",
       " 'outboud',\n",
       " 'mail',\n",
       " ':',\n",
       " 'http://bit.ly/ZjHOk7',\n",
       " '#plone']"
      ]
     },
     "execution_count": 8,
     "metadata": {},
     "output_type": "execute_result"
    }
   ],
   "source": [
    "tweet = preprocess(test)\n",
    "tweet"
   ]
  },
  {
   "cell_type": "markdown",
   "metadata": {},
   "source": [
    "Remove common stop-words + the non-default stop-words: 'RT' (i.e., re-tweet), 'via' (used in mentions), and ellipsis '…'"
   ]
  },
  {
   "cell_type": "code",
   "execution_count": 9,
   "metadata": {
    "collapsed": true
   },
   "outputs": [],
   "source": [
    "from nltk.corpus import stopwords\n",
    "import string\n",
    " \n",
    "punctuation = list(string.punctuation)\n",
    "stop = stopwords.words('english') + punctuation + ['rt', 'via', '…', '¿', '“', '”']"
   ]
  },
  {
   "cell_type": "code",
   "execution_count": 10,
   "metadata": {
    "collapsed": true
   },
   "outputs": [],
   "source": [
    "tweet_stop = [term for term in preprocess(test) if term not in stop]"
   ]
  },
  {
   "cell_type": "code",
   "execution_count": 11,
   "metadata": {
    "collapsed": false
   },
   "outputs": [
    {
     "data": {
      "text/plain": [
       "['blog',\n",
       " 'Using',\n",
       " 'Nullmailer',\n",
       " 'Mandrill',\n",
       " 'Ubuntu',\n",
       " 'Linux',\n",
       " 'server',\n",
       " 'outboud',\n",
       " 'mail',\n",
       " 'http://bit.ly/ZjHOk7',\n",
       " '#plone']"
      ]
     },
     "execution_count": 11,
     "metadata": {},
     "output_type": "execute_result"
    }
   ],
   "source": [
    "tweet_stop"
   ]
  },
  {
   "cell_type": "code",
   "execution_count": 12,
   "metadata": {
    "collapsed": false
   },
   "outputs": [
    {
     "name": "stdout",
     "output_type": "stream",
     "text": [
      "[('Mandrill', 86), ('http://help.mandrill.com', 22), ('email', 21), ('I', 18), ('request', 16), ('@mandrillapp', 14), ('details', 13), ('emails', 13), ('de', 12), ('mandrill', 12)]\n"
     ]
    }
   ],
   "source": [
    "from collections import Counter\n",
    "\n",
    "count_all = Counter()\n",
    "for tweet in df_ham.Tweet:\n",
    "    # Create a list with all the terms\n",
    "    terms_all = [term for term in preprocess(tweet) if term not in stop]\n",
    "    # Update the counter\n",
    "    count_all.update(terms_all)\n",
    "# Print the first 5 most frequent words\n",
    "print(count_all.most_common(10))"
   ]
  },
  {
   "cell_type": "markdown",
   "metadata": {},
   "source": [
    "start"
   ]
  },
  {
   "cell_type": "code",
   "execution_count": 13,
   "metadata": {
    "collapsed": false
   },
   "outputs": [
    {
     "data": {
      "text/html": [
       "<div>\n",
       "<table border=\"1\" class=\"dataframe\">\n",
       "  <thead>\n",
       "    <tr style=\"text-align: right;\">\n",
       "      <th></th>\n",
       "      <th>Tweet</th>\n",
       "      <th>Class</th>\n",
       "    </tr>\n",
       "  </thead>\n",
       "  <tbody>\n",
       "    <tr>\n",
       "      <th>0</th>\n",
       "      <td>blog using nullmailer mandrill ubuntu linux se...</td>\n",
       "      <td>ham</td>\n",
       "    </tr>\n",
       "    <tr>\n",
       "      <th>1</th>\n",
       "      <td>blog using postfix free mandrill email service...</td>\n",
       "      <td>ham</td>\n",
       "    </tr>\n",
       "    <tr>\n",
       "      <th>2</th>\n",
       "      <td>@aalbertson several reasons emails go spam min...</td>\n",
       "      <td>ham</td>\n",
       "    </tr>\n",
       "    <tr>\n",
       "      <th>3</th>\n",
       "      <td>@adrienneleigh switched mandrill let's see imp...</td>\n",
       "      <td>ham</td>\n",
       "    </tr>\n",
       "    <tr>\n",
       "      <th>4</th>\n",
       "      <td>@ankeshk 1 @mailchimp use mailchimp marketing ...</td>\n",
       "      <td>ham</td>\n",
       "    </tr>\n",
       "  </tbody>\n",
       "</table>\n",
       "</div>"
      ],
      "text/plain": [
       "                                               Tweet Class\n",
       "0  blog using nullmailer mandrill ubuntu linux se...   ham\n",
       "1  blog using postfix free mandrill email service...   ham\n",
       "2  @aalbertson several reasons emails go spam min...   ham\n",
       "3  @adrienneleigh switched mandrill let's see imp...   ham\n",
       "4  @ankeshk 1 @mailchimp use mailchimp marketing ...   ham"
      ]
     },
     "execution_count": 13,
     "metadata": {},
     "output_type": "execute_result"
    }
   ],
   "source": [
    "df_ham[\"Tweet\"] = df_ham[\"Tweet\"].str.lower()\n",
    "\n",
    "clean = []\n",
    "for row in df_ham[\"Tweet\"]:\n",
    "    tweet = [term for term in preprocess(row) if term not in stop]\n",
    "    clean.append(' '.join(tweet))\n",
    "    \n",
    "df_ham[\"Tweet\"] = clean  # we now have clean tweets\n",
    "df_ham[\"Class\"] = 'ham' # add classification \n",
    "df_ham.head()"
   ]
  },
  {
   "cell_type": "code",
   "execution_count": 14,
   "metadata": {
    "collapsed": false
   },
   "outputs": [
    {
     "data": {
      "text/html": [
       "<div>\n",
       "<table border=\"1\" class=\"dataframe\">\n",
       "  <thead>\n",
       "    <tr style=\"text-align: right;\">\n",
       "      <th></th>\n",
       "      <th>Tweet</th>\n",
       "      <th>Class</th>\n",
       "    </tr>\n",
       "  </thead>\n",
       "  <tbody>\n",
       "    <tr>\n",
       "      <th>0</th>\n",
       "      <td>en donde esta su remontada mandrill</td>\n",
       "      <td>spam</td>\n",
       "    </tr>\n",
       "    <tr>\n",
       "      <th>1</th>\n",
       "      <td>@katie_phd alternate reproachful mandrill cove...</td>\n",
       "      <td>spam</td>\n",
       "    </tr>\n",
       "    <tr>\n",
       "      <th>2</th>\n",
       "      <td>@theophani get drill would picture mandrill ho...</td>\n",
       "      <td>spam</td>\n",
       "    </tr>\n",
       "    <tr>\n",
       "      <th>3</th>\n",
       "      <td>@chrisjboyland baby mandrill paignton zoo 29 t...</td>\n",
       "      <td>spam</td>\n",
       "    </tr>\n",
       "    <tr>\n",
       "      <th>4</th>\n",
       "      <td>@missmya #nameanamazingband mandrill mint cond...</td>\n",
       "      <td>spam</td>\n",
       "    </tr>\n",
       "  </tbody>\n",
       "</table>\n",
       "</div>"
      ],
      "text/plain": [
       "                                               Tweet Class\n",
       "0                en donde esta su remontada mandrill  spam\n",
       "1  @katie_phd alternate reproachful mandrill cove...  spam\n",
       "2  @theophani get drill would picture mandrill ho...  spam\n",
       "3  @chrisjboyland baby mandrill paignton zoo 29 t...  spam\n",
       "4  @missmya #nameanamazingband mandrill mint cond...  spam"
      ]
     },
     "execution_count": 14,
     "metadata": {},
     "output_type": "execute_result"
    }
   ],
   "source": [
    "df_spam[\"Tweet\"] = df_spam[\"Tweet\"].str.lower()\n",
    "\n",
    "clean = []\n",
    "for row in df_spam[\"Tweet\"]:\n",
    "    tweet = [term for term in preprocess(row) if term not in stop]\n",
    "    clean.append(' '.join(tweet))\n",
    "    \n",
    "df_spam[\"Tweet\"] = clean  # we now have clean tweets\n",
    "df_spam[\"Class\"] = 'spam' # add classification \n",
    "df_spam.head()"
   ]
  },
  {
   "cell_type": "code",
   "execution_count": 15,
   "metadata": {
    "collapsed": false
   },
   "outputs": [
    {
     "data": {
      "text/html": [
       "<div>\n",
       "<table border=\"1\" class=\"dataframe\">\n",
       "  <thead>\n",
       "    <tr style=\"text-align: right;\">\n",
       "      <th></th>\n",
       "      <th>Tweet</th>\n",
       "      <th>Class</th>\n",
       "    </tr>\n",
       "  </thead>\n",
       "  <tbody>\n",
       "    <tr>\n",
       "      <th>281</th>\n",
       "      <td>spark mandrill theme #nerdatwork</td>\n",
       "      <td>spam</td>\n",
       "    </tr>\n",
       "    <tr>\n",
       "      <th>188</th>\n",
       "      <td>@mandrill n k n k n 5 k 4 correction</td>\n",
       "      <td>spam</td>\n",
       "    </tr>\n",
       "    <tr>\n",
       "      <th>112</th>\n",
       "      <td>mandrill webhooks interspire bounce processing...</td>\n",
       "      <td>ham</td>\n",
       "    </tr>\n",
       "    <tr>\n",
       "      <th>43</th>\n",
       "      <td>@matt_pickett u want reach mailchimp mandrill ...</td>\n",
       "      <td>ham</td>\n",
       "    </tr>\n",
       "    <tr>\n",
       "      <th>242</th>\n",
       "      <td>gostei de um vídeo @youtube de @franciscodanrl...</td>\n",
       "      <td>spam</td>\n",
       "    </tr>\n",
       "  </tbody>\n",
       "</table>\n",
       "</div>"
      ],
      "text/plain": [
       "                                                 Tweet Class\n",
       "281                   spark mandrill theme #nerdatwork  spam\n",
       "188               @mandrill n k n k n 5 k 4 correction  spam\n",
       "112  mandrill webhooks interspire bounce processing...   ham\n",
       "43   @matt_pickett u want reach mailchimp mandrill ...   ham\n",
       "242  gostei de um vídeo @youtube de @franciscodanrl...  spam"
      ]
     },
     "execution_count": 15,
     "metadata": {},
     "output_type": "execute_result"
    }
   ],
   "source": [
    "df_data = pd.concat([df_ham,df_spam])\n",
    "df_data = df_data.reset_index(drop=True)\n",
    "df_data = df_data.reindex(np.random.permutation(df_data.index))\n",
    "df_data.head()"
   ]
  },
  {
   "cell_type": "code",
   "execution_count": 16,
   "metadata": {
    "collapsed": false
   },
   "outputs": [
    {
     "data": {
      "text/plain": [
       "<300x1662 sparse matrix of type '<class 'numpy.int64'>'\n",
       "\twith 3493 stored elements in Compressed Sparse Row format>"
      ]
     },
     "execution_count": 16,
     "metadata": {},
     "output_type": "execute_result"
    }
   ],
   "source": [
    "from sklearn.feature_extraction.text import CountVectorizer\n",
    "\n",
    "count_vectorizer = CountVectorizer()\n",
    "counts = count_vectorizer.fit_transform(df_data[\"Tweet\"].values)\n",
    "counts"
   ]
  },
  {
   "cell_type": "code",
   "execution_count": 17,
   "metadata": {
    "collapsed": false
   },
   "outputs": [
    {
     "data": {
      "text/plain": [
       "MultinomialNB(alpha=1.0, class_prior=None, fit_prior=True)"
      ]
     },
     "execution_count": 17,
     "metadata": {},
     "output_type": "execute_result"
    }
   ],
   "source": [
    "from sklearn.naive_bayes import MultinomialNB\n",
    "\n",
    "classifier = MultinomialNB()\n",
    "targets = df_data['Class'].values\n",
    "classifier.fit(counts, targets)"
   ]
  },
  {
   "cell_type": "markdown",
   "metadata": {
    "collapsed": false
   },
   "source": [
    "testing data"
   ]
  },
  {
   "cell_type": "code",
   "execution_count": 18,
   "metadata": {
    "collapsed": false
   },
   "outputs": [
    {
     "data": {
      "text/html": [
       "<div>\n",
       "<table border=\"1\" class=\"dataframe\">\n",
       "  <thead>\n",
       "    <tr style=\"text-align: right;\">\n",
       "      <th></th>\n",
       "      <th>Tweet</th>\n",
       "    </tr>\n",
       "  </thead>\n",
       "  <tbody>\n",
       "    <tr>\n",
       "      <th>0</th>\n",
       "      <td>Just love @mandrillapp transactional email ser...</td>\n",
       "    </tr>\n",
       "    <tr>\n",
       "      <th>1</th>\n",
       "      <td>@rossdeane Mind submitting a request at http:/...</td>\n",
       "    </tr>\n",
       "    <tr>\n",
       "      <th>2</th>\n",
       "      <td>@veroapp Any chance you'll be adding Mandrill ...</td>\n",
       "    </tr>\n",
       "    <tr>\n",
       "      <th>3</th>\n",
       "      <td>@Elie__ @camj59 jparle de relai SMTP!1 million...</td>\n",
       "    </tr>\n",
       "    <tr>\n",
       "      <th>4</th>\n",
       "      <td>would like to send emails for welcome, passwor...</td>\n",
       "    </tr>\n",
       "  </tbody>\n",
       "</table>\n",
       "</div>"
      ],
      "text/plain": [
       "                                               Tweet\n",
       "0  Just love @mandrillapp transactional email ser...\n",
       "1  @rossdeane Mind submitting a request at http:/...\n",
       "2  @veroapp Any chance you'll be adding Mandrill ...\n",
       "3  @Elie__ @camj59 jparle de relai SMTP!1 million...\n",
       "4  would like to send emails for welcome, passwor..."
      ]
     },
     "execution_count": 18,
     "metadata": {},
     "output_type": "execute_result"
    }
   ],
   "source": [
    "df_test = pd.read_excel(open('C:/Users/craigrshenton/Desktop/Dropbox/excel_data_sci/ch03/Mandrill.xlsx','rb'), sheetname=6)\n",
    "df_test = df_test.iloc[0:, 2:3]\n",
    "df_test.head()"
   ]
  },
  {
   "cell_type": "code",
   "execution_count": 19,
   "metadata": {
    "collapsed": false
   },
   "outputs": [
    {
     "data": {
      "text/html": [
       "<div>\n",
       "<table border=\"1\" class=\"dataframe\">\n",
       "  <thead>\n",
       "    <tr style=\"text-align: right;\">\n",
       "      <th></th>\n",
       "      <th>Tweet</th>\n",
       "    </tr>\n",
       "  </thead>\n",
       "  <tbody>\n",
       "    <tr>\n",
       "      <th>0</th>\n",
       "      <td>love @mandrillapp transactional email service ...</td>\n",
       "    </tr>\n",
       "    <tr>\n",
       "      <th>1</th>\n",
       "      <td>@rossdeane mind submitting request http://help...</td>\n",
       "    </tr>\n",
       "    <tr>\n",
       "      <th>2</th>\n",
       "      <td>@veroapp chance you'll adding mandrill support...</td>\n",
       "    </tr>\n",
       "    <tr>\n",
       "      <th>3</th>\n",
       "      <td>@elie__ @camj59 jparle de relai smtp 1 million...</td>\n",
       "    </tr>\n",
       "    <tr>\n",
       "      <th>4</th>\n",
       "      <td>would like send emails welcome password resets...</td>\n",
       "    </tr>\n",
       "  </tbody>\n",
       "</table>\n",
       "</div>"
      ],
      "text/plain": [
       "                                               Tweet\n",
       "0  love @mandrillapp transactional email service ...\n",
       "1  @rossdeane mind submitting request http://help...\n",
       "2  @veroapp chance you'll adding mandrill support...\n",
       "3  @elie__ @camj59 jparle de relai smtp 1 million...\n",
       "4  would like send emails welcome password resets..."
      ]
     },
     "execution_count": 19,
     "metadata": {},
     "output_type": "execute_result"
    }
   ],
   "source": [
    "df_test[\"Tweet\"] = df_test[\"Tweet\"].str.lower()\n",
    "\n",
    "clean = []\n",
    "for row in df_test[\"Tweet\"]:\n",
    "    tweet = [term for term in preprocess(row) if term not in stop]\n",
    "    clean.append(' '.join(tweet))\n",
    "    \n",
    "df_test[\"Tweet\"] = clean  # we now have clean tweets\n",
    "df_test.head()"
   ]
  },
  {
   "cell_type": "markdown",
   "metadata": {},
   "source": [
    "Following Zac Stewart's example (see [here](http://zacstewart.com/2015/04/28/document-classification-with-scikit-learn.html), and [here](http://zacstewart.com/2014/08/05/pipelines-of-featureunions-of-pipelines.html)), we use sklearn's 'pipeline' feature to merge the feature extraction and classification into one operation"
   ]
  },
  {
   "cell_type": "code",
   "execution_count": 20,
   "metadata": {
    "collapsed": false
   },
   "outputs": [
    {
     "data": {
      "text/html": [
       "<div>\n",
       "<table border=\"1\" class=\"dataframe\">\n",
       "  <thead>\n",
       "    <tr style=\"text-align: right;\">\n",
       "      <th></th>\n",
       "      <th>Tweet</th>\n",
       "      <th>Prediction Class</th>\n",
       "    </tr>\n",
       "  </thead>\n",
       "  <tbody>\n",
       "    <tr>\n",
       "      <th>0</th>\n",
       "      <td>love @mandrillapp transactional email service ...</td>\n",
       "      <td>ham</td>\n",
       "    </tr>\n",
       "    <tr>\n",
       "      <th>1</th>\n",
       "      <td>@rossdeane mind submitting request http://help...</td>\n",
       "      <td>ham</td>\n",
       "    </tr>\n",
       "    <tr>\n",
       "      <th>2</th>\n",
       "      <td>@veroapp chance you'll adding mandrill support...</td>\n",
       "      <td>ham</td>\n",
       "    </tr>\n",
       "    <tr>\n",
       "      <th>3</th>\n",
       "      <td>@elie__ @camj59 jparle de relai smtp 1 million...</td>\n",
       "      <td>ham</td>\n",
       "    </tr>\n",
       "    <tr>\n",
       "      <th>4</th>\n",
       "      <td>would like send emails welcome password resets...</td>\n",
       "      <td>ham</td>\n",
       "    </tr>\n",
       "    <tr>\n",
       "      <th>5</th>\n",
       "      <td>coworker using mandrill would entrust email ha...</td>\n",
       "      <td>ham</td>\n",
       "    </tr>\n",
       "    <tr>\n",
       "      <th>6</th>\n",
       "      <td>@mandrill realised 5 seconds hitting send</td>\n",
       "      <td>ham</td>\n",
       "    </tr>\n",
       "    <tr>\n",
       "      <th>7</th>\n",
       "      <td>holy shit ’ http://www.mandrill.com/</td>\n",
       "      <td>ham</td>\n",
       "    </tr>\n",
       "    <tr>\n",
       "      <th>8</th>\n",
       "      <td>new subscriber profile page activity timeline ...</td>\n",
       "      <td>ham</td>\n",
       "    </tr>\n",
       "    <tr>\n",
       "      <th>9</th>\n",
       "      <td>@mandrillapp increases scalability http://bit....</td>\n",
       "      <td>ham</td>\n",
       "    </tr>\n",
       "    <tr>\n",
       "      <th>10</th>\n",
       "      <td>beets @missmya #nameanamazingband mandrill</td>\n",
       "      <td>spam</td>\n",
       "    </tr>\n",
       "    <tr>\n",
       "      <th>11</th>\n",
       "      <td>@luissand0val fernando vargas mandrill mexican...</td>\n",
       "      <td>spam</td>\n",
       "    </tr>\n",
       "    <tr>\n",
       "      <th>12</th>\n",
       "      <td>photo oculi-ds mandrill natalie manuel http://...</td>\n",
       "      <td>spam</td>\n",
       "    </tr>\n",
       "    <tr>\n",
       "      <th>13</th>\n",
       "      <td>@mandrill neither sadpanda together :(</td>\n",
       "      <td>spam</td>\n",
       "    </tr>\n",
       "    <tr>\n",
       "      <th>14</th>\n",
       "      <td>@mandrill n k n k n 5 k 4, long time think</td>\n",
       "      <td>spam</td>\n",
       "    </tr>\n",
       "    <tr>\n",
       "      <th>15</th>\n",
       "      <td>megaman x spark mandrill acapella http://youtu...</td>\n",
       "      <td>spam</td>\n",
       "    </tr>\n",
       "    <tr>\n",
       "      <th>16</th>\n",
       "      <td>@angeluserrare1 storm eagle ftw nom ás dejes q...</td>\n",
       "      <td>spam</td>\n",
       "    </tr>\n",
       "    <tr>\n",
       "      <th>17</th>\n",
       "      <td>gostei de um vídeo @youtube http://youtu.be/xz...</td>\n",
       "      <td>spam</td>\n",
       "    </tr>\n",
       "    <tr>\n",
       "      <th>18</th>\n",
       "      <td>2 year-old mandrill jj thinking pic http://ow....</td>\n",
       "      <td>ham</td>\n",
       "    </tr>\n",
       "    <tr>\n",
       "      <th>19</th>\n",
       "      <td>120 years moscow zoo mandrill поста ссср #post...</td>\n",
       "      <td>spam</td>\n",
       "    </tr>\n",
       "  </tbody>\n",
       "</table>\n",
       "</div>"
      ],
      "text/plain": [
       "                                                Tweet Prediction Class\n",
       "0   love @mandrillapp transactional email service ...              ham\n",
       "1   @rossdeane mind submitting request http://help...              ham\n",
       "2   @veroapp chance you'll adding mandrill support...              ham\n",
       "3   @elie__ @camj59 jparle de relai smtp 1 million...              ham\n",
       "4   would like send emails welcome password resets...              ham\n",
       "5   coworker using mandrill would entrust email ha...              ham\n",
       "6           @mandrill realised 5 seconds hitting send              ham\n",
       "7                holy shit ’ http://www.mandrill.com/              ham\n",
       "8   new subscriber profile page activity timeline ...              ham\n",
       "9   @mandrillapp increases scalability http://bit....              ham\n",
       "10         beets @missmya #nameanamazingband mandrill             spam\n",
       "11  @luissand0val fernando vargas mandrill mexican...             spam\n",
       "12  photo oculi-ds mandrill natalie manuel http://...             spam\n",
       "13             @mandrill neither sadpanda together :(             spam\n",
       "14         @mandrill n k n k n 5 k 4, long time think             spam\n",
       "15  megaman x spark mandrill acapella http://youtu...             spam\n",
       "16  @angeluserrare1 storm eagle ftw nom ás dejes q...             spam\n",
       "17  gostei de um vídeo @youtube http://youtu.be/xz...             spam\n",
       "18  2 year-old mandrill jj thinking pic http://ow....              ham\n",
       "19  120 years moscow zoo mandrill поста ссср #post...             spam"
      ]
     },
     "execution_count": 20,
     "metadata": {},
     "output_type": "execute_result"
    }
   ],
   "source": [
    "from sklearn.pipeline import Pipeline\n",
    "\n",
    "pipeline = Pipeline([\n",
    "    ('vectorizer',  CountVectorizer()),\n",
    "    ('classifier',  MultinomialNB()) ])\n",
    "\n",
    "pipeline.fit(df_data['Tweet'].values, df_data['Class'].values)\n",
    "\n",
    "df_test[\"Prediction Class\"] = pipeline.predict(df_test['Tweet'].values) # add classification ['spam', 'ham']\n",
    "df_test"
   ]
  },
  {
   "cell_type": "code",
   "execution_count": 21,
   "metadata": {
    "collapsed": false
   },
   "outputs": [
    {
     "data": {
      "text/html": [
       "<div>\n",
       "<table border=\"1\" class=\"dataframe\">\n",
       "  <thead>\n",
       "    <tr style=\"text-align: right;\">\n",
       "      <th></th>\n",
       "      <th>Tweet</th>\n",
       "      <th>Prediction Class</th>\n",
       "      <th>True Class</th>\n",
       "    </tr>\n",
       "  </thead>\n",
       "  <tbody>\n",
       "    <tr>\n",
       "      <th>0</th>\n",
       "      <td>love @mandrillapp transactional email service ...</td>\n",
       "      <td>ham</td>\n",
       "      <td>APP</td>\n",
       "    </tr>\n",
       "    <tr>\n",
       "      <th>1</th>\n",
       "      <td>@rossdeane mind submitting request http://help...</td>\n",
       "      <td>ham</td>\n",
       "      <td>APP</td>\n",
       "    </tr>\n",
       "    <tr>\n",
       "      <th>2</th>\n",
       "      <td>@veroapp chance you'll adding mandrill support...</td>\n",
       "      <td>ham</td>\n",
       "      <td>APP</td>\n",
       "    </tr>\n",
       "    <tr>\n",
       "      <th>3</th>\n",
       "      <td>@elie__ @camj59 jparle de relai smtp 1 million...</td>\n",
       "      <td>ham</td>\n",
       "      <td>APP</td>\n",
       "    </tr>\n",
       "    <tr>\n",
       "      <th>4</th>\n",
       "      <td>would like send emails welcome password resets...</td>\n",
       "      <td>ham</td>\n",
       "      <td>APP</td>\n",
       "    </tr>\n",
       "    <tr>\n",
       "      <th>5</th>\n",
       "      <td>coworker using mandrill would entrust email ha...</td>\n",
       "      <td>ham</td>\n",
       "      <td>APP</td>\n",
       "    </tr>\n",
       "    <tr>\n",
       "      <th>6</th>\n",
       "      <td>@mandrill realised 5 seconds hitting send</td>\n",
       "      <td>ham</td>\n",
       "      <td>APP</td>\n",
       "    </tr>\n",
       "    <tr>\n",
       "      <th>7</th>\n",
       "      <td>holy shit ’ http://www.mandrill.com/</td>\n",
       "      <td>ham</td>\n",
       "      <td>APP</td>\n",
       "    </tr>\n",
       "    <tr>\n",
       "      <th>8</th>\n",
       "      <td>new subscriber profile page activity timeline ...</td>\n",
       "      <td>ham</td>\n",
       "      <td>APP</td>\n",
       "    </tr>\n",
       "    <tr>\n",
       "      <th>9</th>\n",
       "      <td>@mandrillapp increases scalability http://bit....</td>\n",
       "      <td>ham</td>\n",
       "      <td>APP</td>\n",
       "    </tr>\n",
       "    <tr>\n",
       "      <th>10</th>\n",
       "      <td>beets @missmya #nameanamazingband mandrill</td>\n",
       "      <td>spam</td>\n",
       "      <td>OTHER</td>\n",
       "    </tr>\n",
       "    <tr>\n",
       "      <th>11</th>\n",
       "      <td>@luissand0val fernando vargas mandrill mexican...</td>\n",
       "      <td>spam</td>\n",
       "      <td>OTHER</td>\n",
       "    </tr>\n",
       "    <tr>\n",
       "      <th>12</th>\n",
       "      <td>photo oculi-ds mandrill natalie manuel http://...</td>\n",
       "      <td>spam</td>\n",
       "      <td>OTHER</td>\n",
       "    </tr>\n",
       "    <tr>\n",
       "      <th>13</th>\n",
       "      <td>@mandrill neither sadpanda together :(</td>\n",
       "      <td>spam</td>\n",
       "      <td>OTHER</td>\n",
       "    </tr>\n",
       "    <tr>\n",
       "      <th>14</th>\n",
       "      <td>@mandrill n k n k n 5 k 4, long time think</td>\n",
       "      <td>spam</td>\n",
       "      <td>OTHER</td>\n",
       "    </tr>\n",
       "    <tr>\n",
       "      <th>15</th>\n",
       "      <td>megaman x spark mandrill acapella http://youtu...</td>\n",
       "      <td>spam</td>\n",
       "      <td>OTHER</td>\n",
       "    </tr>\n",
       "    <tr>\n",
       "      <th>16</th>\n",
       "      <td>@angeluserrare1 storm eagle ftw nom ás dejes q...</td>\n",
       "      <td>spam</td>\n",
       "      <td>OTHER</td>\n",
       "    </tr>\n",
       "    <tr>\n",
       "      <th>17</th>\n",
       "      <td>gostei de um vídeo @youtube http://youtu.be/xz...</td>\n",
       "      <td>spam</td>\n",
       "      <td>OTHER</td>\n",
       "    </tr>\n",
       "    <tr>\n",
       "      <th>18</th>\n",
       "      <td>2 year-old mandrill jj thinking pic http://ow....</td>\n",
       "      <td>ham</td>\n",
       "      <td>OTHER</td>\n",
       "    </tr>\n",
       "    <tr>\n",
       "      <th>19</th>\n",
       "      <td>120 years moscow zoo mandrill поста ссср #post...</td>\n",
       "      <td>spam</td>\n",
       "      <td>OTHER</td>\n",
       "    </tr>\n",
       "  </tbody>\n",
       "</table>\n",
       "</div>"
      ],
      "text/plain": [
       "                                                Tweet Prediction Class  \\\n",
       "0   love @mandrillapp transactional email service ...              ham   \n",
       "1   @rossdeane mind submitting request http://help...              ham   \n",
       "2   @veroapp chance you'll adding mandrill support...              ham   \n",
       "3   @elie__ @camj59 jparle de relai smtp 1 million...              ham   \n",
       "4   would like send emails welcome password resets...              ham   \n",
       "5   coworker using mandrill would entrust email ha...              ham   \n",
       "6           @mandrill realised 5 seconds hitting send              ham   \n",
       "7                holy shit ’ http://www.mandrill.com/              ham   \n",
       "8   new subscriber profile page activity timeline ...              ham   \n",
       "9   @mandrillapp increases scalability http://bit....              ham   \n",
       "10         beets @missmya #nameanamazingband mandrill             spam   \n",
       "11  @luissand0val fernando vargas mandrill mexican...             spam   \n",
       "12  photo oculi-ds mandrill natalie manuel http://...             spam   \n",
       "13             @mandrill neither sadpanda together :(             spam   \n",
       "14         @mandrill n k n k n 5 k 4, long time think             spam   \n",
       "15  megaman x spark mandrill acapella http://youtu...             spam   \n",
       "16  @angeluserrare1 storm eagle ftw nom ás dejes q...             spam   \n",
       "17  gostei de um vídeo @youtube http://youtu.be/xz...             spam   \n",
       "18  2 year-old mandrill jj thinking pic http://ow....              ham   \n",
       "19  120 years moscow zoo mandrill поста ссср #post...             spam   \n",
       "\n",
       "   True Class  \n",
       "0         APP  \n",
       "1         APP  \n",
       "2         APP  \n",
       "3         APP  \n",
       "4         APP  \n",
       "5         APP  \n",
       "6         APP  \n",
       "7         APP  \n",
       "8         APP  \n",
       "9         APP  \n",
       "10      OTHER  \n",
       "11      OTHER  \n",
       "12      OTHER  \n",
       "13      OTHER  \n",
       "14      OTHER  \n",
       "15      OTHER  \n",
       "16      OTHER  \n",
       "17      OTHER  \n",
       "18      OTHER  \n",
       "19      OTHER  "
      ]
     },
     "execution_count": 21,
     "metadata": {},
     "output_type": "execute_result"
    }
   ],
   "source": [
    "true_class = pd.read_excel(open('C:/Users/craigrshenton/Desktop/Dropbox/excel_data_sci/ch03/Mandrill.xlsx','rb'), sheetname=6)\n",
    "df_test[\"True Class\"] = true_class.iloc[0:, 1:2]\n",
    "df_test"
   ]
  },
  {
   "cell_type": "markdown",
   "metadata": {},
   "source": [
    "Naturally, in a business application we will generally not have a set of independent test data available. To get around this, we can use *cross-validation*. Here, we split the training set into two parts, a large training set (~80%), and a smaller testing set (~20%). In this example we also repeat 6 times to average out the results using *k-fold cross-validation* and scikit-learn's 'KFold' function"
   ]
  },
  {
   "cell_type": "code",
   "execution_count": 36,
   "metadata": {
    "collapsed": false
   },
   "outputs": [
    {
     "name": "stdout",
     "output_type": "stream",
     "text": [
      "Total emails classified: 300\n",
      "Score: 0.836360280546\n"
     ]
    }
   ],
   "source": [
    "from sklearn.cross_validation import KFold\n",
    "from sklearn.metrics import confusion_matrix, f1_score\n",
    "\n",
    "k_fold = KFold(n=len(df_data), n_folds=6)\n",
    "scores = []\n",
    "confusion = np.array([[0, 0], [0, 0]])\n",
    "for train_indices, test_indices in k_fold:\n",
    "    train_text = df_data.iloc[train_indices]['Tweet'].values\n",
    "    train_y = df_data.iloc[train_indices]['Class'].values\n",
    "\n",
    "    test_text = df_data.iloc[test_indices]['Tweet'].values\n",
    "    test_y = df_data.iloc[test_indices]['Class'].values\n",
    "\n",
    "    pipeline.fit(train_text, train_y)\n",
    "    predictions = pipeline.predict(test_text)\n",
    "\n",
    "    confusion += confusion_matrix(test_y, predictions)\n",
    "    score = f1_score(test_y, predictions, pos_label='spam')\n",
    "    scores.append(score)\n",
    "\n",
    "print('Total emails classified:', len(df_data))\n",
    "print('Score:', sum(scores)/len(scores))"
   ]
  },
  {
   "cell_type": "markdown",
   "metadata": {},
   "source": [
    "The F1 score is a measure of a test's accuracy, in both precision and recall. F1 score reaches its best value at 1 and worst at 0, so the model's score of 0.836 is not bad for a first pass"
   ]
  },
  {
   "cell_type": "code",
   "execution_count": 35,
   "metadata": {
    "collapsed": false
   },
   "outputs": [
    {
     "name": "stdout",
     "output_type": "stream",
     "text": [
      "Confusion matrix:\n",
      "[[144   6]\n",
      " [ 39 111]]\n"
     ]
    }
   ],
   "source": [
    "print('Confusion matrix:')\n",
    "print(confusion)"
   ]
  },
  {
   "cell_type": "markdown",
   "metadata": {},
   "source": [
    "A confusion matrix helps us understand how the model performed for individual features. Out of the 300 tweets, \n",
    "the model incorrectly classified about 39 tweets that are about the produt, and 6 tweets that are not"
   ]
  },
  {
   "cell_type": "markdown",
   "metadata": {},
   "source": [
    "In order to improve the results there are two approaches we can take:\n",
    "- We could improve the data preprocessing by cleaning the data with more filters\n",
    "- We can tune the parameters of the naïve Bayes classifier"
   ]
  }
 ],
 "metadata": {
  "anaconda-cloud": {},
  "kernelspec": {
   "display_name": "Python [conda root]",
   "language": "python",
   "name": "conda-root-py"
  },
  "language_info": {
   "codemirror_mode": {
    "name": "ipython",
    "version": 3
   },
   "file_extension": ".py",
   "mimetype": "text/x-python",
   "name": "python",
   "nbconvert_exporter": "python",
   "pygments_lexer": "ipython3",
   "version": "3.5.2"
  }
 },
 "nbformat": 4,
 "nbformat_minor": 1
}
